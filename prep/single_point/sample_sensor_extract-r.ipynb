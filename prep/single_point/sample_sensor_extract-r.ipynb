{
 "cells": [
  {
   "cell_type": "code",
   "execution_count": 1,
   "id": "8419375e-77a2-41fc-8792-5cabb0584c40",
   "metadata": {
    "vscode": {
     "languageId": "r"
    }
   },
   "outputs": [
    {
     "name": "stderr",
     "output_type": "stream",
     "text": [
      "── \u001b[1mAttaching core tidyverse packages\u001b[22m ──────────────────────── tidyverse 2.0.0 ──\n",
      "\u001b[32m✔\u001b[39m \u001b[34mdplyr    \u001b[39m 1.1.2     \u001b[32m✔\u001b[39m \u001b[34mreadr    \u001b[39m 2.1.4\n",
      "\u001b[32m✔\u001b[39m \u001b[34mforcats  \u001b[39m 1.0.0     \u001b[32m✔\u001b[39m \u001b[34mstringr  \u001b[39m 1.5.0\n",
      "\u001b[32m✔\u001b[39m \u001b[34mggplot2  \u001b[39m 3.4.2     \u001b[32m✔\u001b[39m \u001b[34mtibble   \u001b[39m 3.2.1\n",
      "\u001b[32m✔\u001b[39m \u001b[34mlubridate\u001b[39m 1.9.2     \u001b[32m✔\u001b[39m \u001b[34mtidyr    \u001b[39m 1.3.0\n",
      "\u001b[32m✔\u001b[39m \u001b[34mpurrr    \u001b[39m 1.0.1     \n",
      "── \u001b[1mConflicts\u001b[22m ────────────────────────────────────────── tidyverse_conflicts() ──\n",
      "\u001b[31m✖\u001b[39m \u001b[34mdplyr\u001b[39m::\u001b[32mfilter()\u001b[39m masks \u001b[34mstats\u001b[39m::filter()\n",
      "\u001b[31m✖\u001b[39m \u001b[34mdplyr\u001b[39m::\u001b[32mlag()\u001b[39m    masks \u001b[34mstats\u001b[39m::lag()\n",
      "\u001b[36mℹ\u001b[39m Use the conflicted package (\u001b[3m\u001b[34m<http://conflicted.r-lib.org/>\u001b[39m\u001b[23m) to force all conflicts to become errors\n"
     ]
    }
   ],
   "source": [
    "library(tidyverse)\n",
    "library(lubridate)"
   ]
  },
  {
   "cell_type": "code",
   "execution_count": 3,
   "id": "befbb3b5-0679-4241-88ec-a3e639e43f53",
   "metadata": {
    "vscode": {
     "languageId": "r"
    }
   },
   "outputs": [
    {
     "name": "stderr",
     "output_type": "stream",
     "text": [
      "\u001b[1m\u001b[22mJoining with `by = join_by(patchID, date)`\n"
     ]
    }
   ],
   "source": [
    "in_path <- \"../../lora/data\"\n",
    "\n",
    "nmin_raw <- read.csv(file.path(in_path, \"true_data/nmin_raw.csv\"), sep = \";\", na.strings = c(\"#VALUE!\", \"NA\", \"#DIV/0!\"))\n",
    "\n",
    "crops <- nmin_raw %>% \n",
    "    mutate(date = dmy(Date)) %>% \n",
    "    select(c(Crop, date, patchID))\n",
    "\n",
    "sample_data <- nmin_raw %>% \n",
    "    mutate(date = dmy(Date),\n",
    "           depth = recode(Depth,\n",
    "                         '0-30' = 30,\n",
    "                         '30-60' = 60,\n",
    "                         '60-90' = 90,\n",
    "                         .default = NA_real_)) %>% \n",
    "    select(c(patchID, date, depth, kgNmin)) %>% \n",
    "    pivot_wider(names_from = depth, values_from = kgNmin, names_prefix = 'nmin_', values_fn = mean) %>% \n",
    "    mutate(doy = yday(date)) %>% \n",
    "    select(-c(nmin_NA))%>% \n",
    "    left_join(crops)%>% \n",
    "    rename(patch = patchID, crop = Crop) %>% \n",
    "    distinct() %>% \n",
    "    filter(!is.na(date))\n",
    "\n",
    "write.csv(sample_data,\n",
    "          file = \"merge_ready/sample_mr.csv\",\n",
    "          row.names = FALSE)"
   ]
  },
  {
   "cell_type": "code",
   "execution_count": 4,
   "id": "adf6e714-bcd6-4784-80ac-160684ead19e",
   "metadata": {
    "editable": true,
    "slideshow": {
     "slide_type": ""
    },
    "tags": [],
    "vscode": {
     "languageId": "r"
    }
   },
   "outputs": [],
   "source": [
    "sensor_raw <- read.csv(file.path(in_path, \"sensor_data_clean_cal/all_sensor_data_clean_cal.csv\"))"
   ]
  },
  {
   "cell_type": "code",
   "execution_count": 5,
   "id": "f39c71ed-a1f3-4c89-9d9d-97026e782cd8",
   "metadata": {
    "vscode": {
     "languageId": "r"
    }
   },
   "outputs": [
    {
     "name": "stderr",
     "output_type": "stream",
     "text": [
      "\u001b[1m\u001b[22m`summarise()` has grouped output by 'date'. You can override using the\n",
      "`.groups` argument.\n"
     ]
    }
   ],
   "source": [
    "sensor_data <- sensor_raw %>% \n",
    "    mutate(dateTime = as.POSIXct(dateTime, format = \"%Y-%m-%dT%H:%M\", tz = \"UTC\"),\n",
    "           date = as.Date(dateTime)) %>%\n",
    "    pivot_wider(names_from = c(side, depth), values_from = cal_wc ) %>%\n",
    "    rowwise() %>% \n",
    "    mutate(mc30 = mean(c(left_30, right_30), na.rm = TRUE),\n",
    "           mc60 = mean(c(left_60, right_60), na.rm = TRUE),\n",
    "           mc90 = mean(c(left_90, right_90), na.rm = TRUE)) %>%\n",
    "    select(-c(dateTime,matches(\"left|right\"))) %>% \n",
    "    filter(!(is.na(mc30) & is.na(mc60) & is.na(mc90))) %>%\n",
    "    group_by(date, patch) %>% \n",
    "    summarise(sm30 = mean(mc30, na.rm = TRUE),\n",
    "              sm60 = mean(mc60, na.rm = TRUE),\n",
    "              sm90 = mean(mc90, na.rm = TRUE))\n",
    "\n",
    "write.csv(sensor_data,\n",
    "          file = \"merge_ready/sensor_mr.csv\",\n",
    "          row.names = FALSE)"
   ]
  },
  {
   "cell_type": "code",
   "execution_count": 6,
   "id": "7ab71826-f938-419b-bece-cb89d6e607db",
   "metadata": {
    "vscode": {
     "languageId": "r"
    }
   },
   "outputs": [
    {
     "name": "stdout",
     "output_type": "stream",
     "text": [
      "[1] \"naive has 261 rows\"\n"
     ]
    },
    {
     "name": "stdout",
     "output_type": "stream",
     "text": [
      "[1] \"past has 194 rows\"\n",
      "[1] \"future has 190 rows\"\n"
     ]
    }
   ],
   "source": [
    "#only merges when dates match exactly\n",
    "sample_sensor_naive <- sample_data %>% \n",
    "    left_join(sensor_data, by = c('date', 'patch')) %>%\n",
    "    arrange(date, patch)\n",
    "\n",
    "#merge rolled back, last available sensor data used\n",
    "past <- join_by(patch, closest(x$date >= y$date))\n",
    "sample_sensor_past <- sample_data %>%\n",
    "    left_join(sensor_data, past) %>%\n",
    "    mutate(diff_days = as.numeric(difftime(date.x, date.y, units = 'days'))) %>%\n",
    "    filter(!is.na(sm30)) %>%\n",
    "    filter(diff_days < 2)\n",
    "\n",
    "#merge rolled forwads, next available sensor data used\n",
    "future <- join_by(patch, closest(x$date <= y$date))\n",
    "sample_sensor_future <- sample_data %>%\n",
    "    left_join(sensor_data, future) %>%\n",
    "    mutate(diff_days = as.numeric(difftime(date.x, date.y, units = 'days'))) %>%\n",
    "    filter(!is.na(sm30)) %>%\n",
    "    filter( -2 < diff_days & diff_days < 2)\n",
    "\n",
    "print(paste(\"naive has\", dim(sample_sensor_naive)[1], \"rows\"))\n",
    "print(paste(\"past has\", dim(sample_sensor_past)[1], \"rows\"))\n",
    "print(paste(\"future has\", dim(sample_sensor_future)[1], \"rows\"))\n"
   ]
  },
  {
   "cell_type": "code",
   "execution_count": 7,
   "id": "2dd32659-7485-4907-b6e2-49186a98a717",
   "metadata": {
    "vscode": {
     "languageId": "r"
    }
   },
   "outputs": [],
   "source": [
    "by <- join_by(patch, date.x)\n",
    "\n",
    "#merge past and future rolls, take average and remove duplicated nmin, doy, crop info\n",
    "sample_sensor_full <- sample_sensor_past %>% \n",
    "    left_join(sample_sensor_future, by) %>% #join past and future\n",
    "    rowwise() %>%\n",
    "    mutate(\n",
    "        sm_30 = mean(c(sm30.x, sm30.y), na.rm = TRUE),\n",
    "        sm_60 = mean(c(sm60.x, sm60.y), na.rm = TRUE),#caclulate rowwise means\n",
    "        sm_90 = mean(c(sm90.x, sm90.y), na.rm = TRUE))\n",
    "\n",
    "# samples where different dates of sensor values are combined\n",
    "# for reference\n",
    "diffs <- sample_sensor_full %>% filter(diff_days.x != diff_days.y)\n",
    "\n",
    "#only relevent information for final merge\n",
    "sample_sensor_mr <- sample_sensor_full %>%\n",
    "    select(-contains(\".y\") & -c(sm30.x, sm60.x, sm90.x, diff_days.x)) %>%\n",
    "    rename_with(~ gsub(\".x\", \"\", .x, fixed=TRUE)) %>%\n",
    "    select(-c(nmin_30, nmin_60)) #removes nmin at low depths, comment out to keep that data\n",
    "\n",
    "write.csv(sample_sensor_mr,\n",
    "          file = \"merge_ready/sample_sensor_mr.csv\",\n",
    "          row.names = FALSE)"
   ]
  }
 ],
 "metadata": {
  "kernelspec": {
   "display_name": "R",
   "language": "R",
   "name": "ir"
  },
  "language_info": {
   "codemirror_mode": "r",
   "file_extension": ".r",
   "mimetype": "text/x-r-source",
   "name": "R",
   "pygments_lexer": "r",
   "version": "4.3.1"
  }
 },
 "nbformat": 4,
 "nbformat_minor": 5
}
