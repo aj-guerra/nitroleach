{
 "cells": [
  {
   "cell_type": "code",
   "execution_count": 1,
   "id": "70a49679-0ad6-46e4-adb5-d2a701a8be05",
   "metadata": {},
   "outputs": [],
   "source": [
    "import rasterio\n",
    "import pandas as pd\n",
    "import numpy as np\n",
    "import pyproj\n",
    "import os"
   ]
  },
  {
   "cell_type": "code",
   "execution_count": 3,
   "id": "706c06d7-695e-400a-b160-ce444e591beb",
   "metadata": {},
   "outputs": [],
   "source": [
    "points = pd.read_csv('../../lora/data/shp/patch_coords.csv')\n",
    "\n",
    "source_crs = pyproj.CRS(\"EPSG:4326\")  # WGS 84\n",
    "target_crs = pyproj.CRS(\"EPSG:25833\")  # UTM zone 33N\n",
    "\n",
    "transformer = pyproj.Transformer.from_crs(source_crs, target_crs, always_xy=True)\n",
    "\n",
    "points[\"x\"], points[\"y\"] = zip(*points.apply(lambda row: transformer.transform(row[\"lon\"], row[\"lat\"]), axis=1))"
   ]
  },
  {
   "cell_type": "code",
   "execution_count": 5,
   "id": "fa833262-c0fb-4b6b-adcf-f3aef634156f",
   "metadata": {},
   "outputs": [
    {
     "ename": "FileNotFoundError",
     "evalue": "[WinError 3] The system cannot find the path specified: '../rasters/planet_train_tifs/'",
     "output_type": "error",
     "traceback": [
      "\u001b[1;31m---------------------------------------------------------------------------\u001b[0m",
      "\u001b[1;31mFileNotFoundError\u001b[0m                         Traceback (most recent call last)",
      "Cell \u001b[1;32mIn[5], line 6\u001b[0m\n\u001b[0;32m      2\u001b[0m planet_points \u001b[39m=\u001b[39m \u001b[39mNone\u001b[39;00m\n\u001b[0;32m      4\u001b[0m in_path \u001b[39m=\u001b[39m \u001b[39m'\u001b[39m\u001b[39m../rasters/planet_train_tifs/\u001b[39m\u001b[39m'\u001b[39m\n\u001b[1;32m----> 6\u001b[0m \u001b[39mfor\u001b[39;00m folder \u001b[39min\u001b[39;00m os\u001b[39m.\u001b[39;49mlistdir(in_path):\n\u001b[0;32m      7\u001b[0m     \u001b[39mfor\u001b[39;00m filename \u001b[39min\u001b[39;00m os\u001b[39m.\u001b[39mlistdir(os\u001b[39m.\u001b[39mpath\u001b[39m.\u001b[39mjoin(in_path, folder)):\n\u001b[0;32m      8\u001b[0m         pixel_values \u001b[39m=\u001b[39m []\n",
      "\u001b[1;31mFileNotFoundError\u001b[0m: [WinError 3] The system cannot find the path specified: '../rasters/planet_train_tifs/'"
     ]
    }
   ],
   "source": [
    "#only actual point value used\n",
    "planet_points = None\n",
    "\n",
    "in_path = '../rasters/planet_tifs/'\n",
    "\n",
    "for folder in os.listdir(in_path):\n",
    "    for filename in os.listdir(os.path.join(in_path, folder)):\n",
    "        pixel_values = []\n",
    "        with rasterio.open(os.path.join(in_path, folder, filename)) as src:\n",
    "            # Extract pixel values\n",
    "            for _, point in points.iterrows():\n",
    "                if src.count == 4: #for 4 band images\n",
    "                    for band in range(1, src.count+1):\n",
    "                        row, col = src.index(point['x'], point['y'])\n",
    "                        value = src.read(band)[row, col]\n",
    "                        bandn = 2*band\n",
    "                        pixel_values.append([point['patch'], folder, bandn, value])\n",
    "                else: #for 8 band images\n",
    "                    for band in range(1, src.count+1):\n",
    "                        row, col = src.index(point['x'], point['y'])\n",
    "                        value = src.read(band)[row, col]\n",
    "                        pixel_values.append([point['patch'], folder, band, value])\n",
    "\n",
    "            # Organize data\n",
    "            columns = ['patch', 'date', 'band', 'pixel_value']\n",
    "            pixel_df = pd.DataFrame(pixel_values, columns=columns)\n",
    "            if planet_points is None:\n",
    "                planet_points = pixel_df\n",
    "            else:\n",
    "                planet_points = pd.concat([planet_points, pixel_df])\n",
    "\n",
    "#Pivot columns to wider\n",
    "planet_points_single = planet_points.pivot_table(index=['patch','date'],\n",
    "                                                 columns='band',\n",
    "                                                 values='pixel_value')\n",
    "planet_points_single.rename(columns={col: f'band_{col}' for col in planet_points_single.columns if str(col).isdigit()}, inplace=True)\n",
    "planet_points_single.reset_index(inplace=True)\n",
    "planet_points_single['date'] = pd.to_datetime(planet_points_single['date'], format='%Y-%m-%d')\n",
    "\n",
    "# output as csv\n",
    "planet_points_single.to_csv(\"merge_ready/planet_mr.csv\", index = False)"
   ]
  },
  {
   "cell_type": "code",
   "execution_count": null,
   "id": "3ce20b49",
   "metadata": {},
   "outputs": [],
   "source": []
  }
 ],
 "metadata": {
  "kernelspec": {
   "display_name": "Python 3 (ipykernel)",
   "language": "python",
   "name": "python3"
  },
  "language_info": {
   "codemirror_mode": {
    "name": "ipython",
    "version": 3
   },
   "file_extension": ".py",
   "mimetype": "text/x-python",
   "name": "python",
   "nbconvert_exporter": "python",
   "pygments_lexer": "ipython3",
   "version": "3.10.12"
  }
 },
 "nbformat": 4,
 "nbformat_minor": 5
}
