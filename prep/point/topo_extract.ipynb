{
 "cells": [
  {
   "cell_type": "code",
   "execution_count": 5,
   "id": "70a49679-0ad6-46e4-adb5-d2a701a8be05",
   "metadata": {},
   "outputs": [],
   "source": [
    "import rasterio\n",
    "import pandas as pd\n",
    "import numpy as np\n",
    "import pyproj\n",
    "import os"
   ]
  },
  {
   "cell_type": "code",
   "execution_count": 6,
   "id": "706c06d7-695e-400a-b160-ce444e591beb",
   "metadata": {},
   "outputs": [],
   "source": [
    "points = pd.read_csv('../lora/data/shp/patch_coords.csv')\n",
    "\n",
    "source_crs = pyproj.CRS(\"EPSG:4326\")  # WGS 84\n",
    "target_crs = pyproj.CRS(\"EPSG:25833\")  # UTM zone 33N\n",
    "\n",
    "transformer = pyproj.Transformer.from_crs(source_crs, target_crs, always_xy=True)\n",
    "\n",
    "points[\"x\"], points[\"y\"] = zip(*points.apply(lambda row: transformer.transform(row[\"lon\"], row[\"lat\"]), axis=1))"
   ]
  },
  {
   "cell_type": "code",
   "execution_count": 7,
   "id": "fa833262-c0fb-4b6b-adcf-f3aef634156f",
   "metadata": {},
   "outputs": [],
   "source": [
    "#only actual point value used\n",
    "topo_points = None\n",
    "\n",
    "in_path = '../rasters/topo_tifs'\n",
    "out_path = 'merge_ready/'\n",
    "\n",
    "for filename in os.listdir(in_path):\n",
    "    pixel_values = []\n",
    "    with rasterio.open(os.path.join(in_path, filename)) as src:\n",
    "        # Extract pixel values\n",
    "        for _, point in points.iterrows():\n",
    "            for band in range(1, src.count+1):\n",
    "                row, col = src.index(point['x'], point['y'])\n",
    "                value = src.read(band)[row, col]\n",
    "                variable = filename[:-4]\n",
    "                pixel_values.append([point['patch'], point['x'], point['y'], variable, value])\n",
    "        # Organize data\n",
    "        columns = ['patch', 'x', 'y', 'variable', 'pixel_value']\n",
    "        pixel_df = pd.DataFrame(pixel_values, columns=columns)\n",
    "        if topo_points is None:\n",
    "            topo_points = pixel_df\n",
    "        else:\n",
    "            topo_points = pd.concat([topo_points, pixel_df])\n",
    "\n",
    "#Pivot columns to wider\n",
    "topo_points_single = topo_points.pivot(index='patch', columns='variable', values='pixel_value')\n",
    "topo_points_single.reset_index(inplace=True)\n",
    "\n",
    "# output as csv\n",
    "topo_points_single.to_csv(os.path.join(out_path, \"topo_1_mr.csv\"), index = False)"
   ]
  },
  {
   "cell_type": "code",
   "execution_count": 8,
   "id": "bba2598b",
   "metadata": {},
   "outputs": [],
   "source": [
    "#neighborhood mean calculated per point\n",
    "topo_points = None\n",
    "\n",
    "in_path = '../rasters/topo_tifs'\n",
    "out_path = 'merge_ready/'\n",
    "\n",
    "for filename in os.listdir(in_path):\n",
    "    pixel_values = []\n",
    "    with rasterio.open(os.path.join(in_path, filename)) as src:\n",
    "        # Extract pixel values\n",
    "        for _, point in points.iterrows():\n",
    "            for band in range(1, src.count+1):\n",
    "                row, col = src.index(point['x'], point['y'])\n",
    "                neighborhood = src.read(band)[max(row-1,0):row+2, max(col-1,0):col+2]\n",
    "                mean_value = neighborhood.mean()\n",
    "                variable = filename[:-4]\n",
    "                pixel_values.append([point['patch'], point['x'], point['y'], variable, mean_value])\n",
    "        \n",
    "        # Organize data\n",
    "        columns = ['patch', 'x', 'y', 'variable', 'pixel_value']\n",
    "        pixel_df = pd.DataFrame(pixel_values, columns=columns)\n",
    "        if topo_points is None:\n",
    "            topo_points = pixel_df\n",
    "        else:\n",
    "            topo_points = pd.concat([topo_points, pixel_df])\n",
    "\n",
    "#Pivot columns to wider\n",
    "topo_points_neighbor = topo_points.pivot(index='patch', columns='variable', values='pixel_value')\n",
    "topo_points_neighbor.reset_index(inplace=True)\n",
    "\n",
    "# output as csv\n",
    "topo_points_single.to_csv(os.path.join(out_path, \"topo_9_mr.csv\"), index = False)"
   ]
  }
 ],
 "metadata": {
  "kernelspec": {
   "display_name": "Python 3 (ipykernel)",
   "language": "python",
   "name": "python3"
  },
  "language_info": {
   "codemirror_mode": {
    "name": "ipython",
    "version": 3
   },
   "file_extension": ".py",
   "mimetype": "text/x-python",
   "name": "python",
   "nbconvert_exporter": "python",
   "pygments_lexer": "ipython3",
   "version": "3.10.12"
  }
 },
 "nbformat": 4,
 "nbformat_minor": 5
}
