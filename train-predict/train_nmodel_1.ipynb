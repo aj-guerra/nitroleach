{
 "cells": [
  {
   "cell_type": "markdown",
   "metadata": {},
   "source": [
    "## Init + Transform"
   ]
  },
  {
   "cell_type": "code",
   "execution_count": 3,
   "metadata": {},
   "outputs": [],
   "source": [
    "from sklearn.ensemble import RandomForestClassifier\n",
    "from sklearn.linear_model import LogisticRegression\n",
    "from sklearn.neighbors import KNeighborsClassifier\n",
    "\n",
    "import os\n",
    "import sys\n",
    "import joblib\n",
    "import numpy as np\n",
    "import pandas as pd\n",
    "from joblib import dump\n",
    "import subprocess as sp\n",
    "# import dask.array as da\n",
    "from pprint import pprint\n",
    "import matplotlib.pyplot as plt\n",
    "# from odc.io.cgroups import get_cpu_quota\n",
    "from sklearn.model_selection import GridSearchCV, GroupKFold, KFold, RandomizedSearchCV\n",
    "from sklearn.preprocessing import StandardScaler, OneHotEncoder\n",
    "from sklearn.metrics import roc_curve, auc, balanced_accuracy_score, accuracy_score, f1_score, roc_auc_score, confusion_matrix\n",
    "from sklearn.exceptions import FitFailedWarning\n",
    "\n",
    "import warnings\n",
    "warnings.simplefilter(action='ignore', category=FutureWarning)\n",
    "warnings.filterwarnings(\"ignore\", category=FitFailedWarning)\n",
    "warnings.filterwarnings(\"ignore\", message=\"One or more of the test scores are non-finite:\")\n",
    "warnings.filterwarnings(\"ignore\", message=\"Liblinear failed to converge, increase the number of iterations.\")\n"
   ]
  },
  {
   "cell_type": "code",
   "execution_count": 4,
   "metadata": {},
   "outputs": [
    {
     "name": "stderr",
     "output_type": "stream",
     "text": [
      "C:\\Users\\guerra\\AppData\\Local\\Temp\\ipykernel_19880\\2646843055.py:14: SettingWithCopyWarning: \n",
      "A value is trying to be set on a copy of a slice from a DataFrame.\n",
      "Try using .loc[row_indexer,col_indexer] = value instead\n",
      "\n",
      "See the caveats in the documentation: https://pandas.pydata.org/pandas-docs/stable/user_guide/indexing.html#returning-a-view-versus-a-copy\n",
      "  doy_column['doy_sin'] = np.sin(2 * np.pi * doy_column['doy'] / 365)\n",
      "C:\\Users\\guerra\\AppData\\Local\\Temp\\ipykernel_19880\\2646843055.py:15: SettingWithCopyWarning: \n",
      "A value is trying to be set on a copy of a slice from a DataFrame.\n",
      "Try using .loc[row_indexer,col_indexer] = value instead\n",
      "\n",
      "See the caveats in the documentation: https://pandas.pydata.org/pandas-docs/stable/user_guide/indexing.html#returning-a-view-versus-a-copy\n",
      "  doy_column['doy_cos'] = np.cos(2 * np.pi * doy_column['doy'] / 365)\n"
     ]
    }
   ],
   "source": [
    "model_input = pd.read_csv(\"data/dataset_1.csv\")\n",
    "model_input.rename(columns={'nmin_90' : 'leach'}, inplace = True)\n",
    "\n",
    "# Separate columns\n",
    "crop_column = model_input[['crop']]\n",
    "doy_column = model_input[['doy']]\n",
    "cluster_column = model_input[['cluster']]\n",
    "\n",
    "# Nmin conversion to binary\n",
    "threshold = model_input['leach'].mean()\n",
    "nmin_column = (model_input['leach'] > threshold).astype(int)\n",
    "\n",
    "# Transform DOY into two dimensions using sine and cosine\n",
    "doy_column['doy_sin'] = np.sin(2 * np.pi * doy_column['doy'] / 365)\n",
    "doy_column['doy_cos'] = np.cos(2 * np.pi * doy_column['doy'] / 365)\n",
    "\n",
    "# One-hot encode the 'crop' column\n",
    "encoder = OneHotEncoder(sparse=False)\n",
    "crop_encoded = encoder.fit_transform(crop_column)\n",
    "crop_df = pd.DataFrame(crop_encoded, columns=encoder.get_feature_names_out(['crop']))\n",
    "\n",
    "# Drop columns not to be scaled\n",
    "fields = model_input.drop(['crop', 'doy', 'leach', 'cluster', 'patch'], axis=1)\n",
    "\n",
    "# Scale the remaining numerical features\n",
    "scaler = StandardScaler(with_mean=False)\n",
    "scaled_fields = scaler.fit_transform(fields)\n",
    "scaled_fields_df = pd.DataFrame(scaled_fields, columns=fields.columns)\n",
    "\n",
    "# Concatenate the transformed 'crop', 'doy', and scaled numerical features\n",
    "final_df = pd.concat([doy_column[['doy_sin', 'doy_cos']], crop_df, scaled_fields_df, cluster_column, nmin_column], axis=1)"
   ]
  },
  {
   "cell_type": "markdown",
   "metadata": {},
   "source": [
    "## Group"
   ]
  },
  {
   "cell_type": "code",
   "execution_count": 5,
   "metadata": {},
   "outputs": [],
   "source": [
    "# drops bands not in 4band spectrum and indices from them\n",
    "fourband = final_df.drop(['band_1', 'band_3', 'band_5', 'band_7', 'NDRE', 'MCARI', 'LCCI'], axis = 1)\n",
    "\n",
    "# drops rows with NA present (only occurs in 4band rows for extra bands)\n",
    "NAmask  = final_df.apply(lambda x: x.notna().all(), axis=1)\n",
    "eightband = final_df[NAmask]\n",
    "\n",
    "# drops crop columns and bands not in 4band spectrum and indices from them \n",
    "nocrop = pd.concat([doy_column[['doy_sin', 'doy_cos']], scaled_fields_df, cluster_column, nmin_column], axis=1)\n",
    "nocrop_four = nocrop.drop(['band_1', 'band_3', 'band_5', 'band_7', 'NDRE', 'MCARI', 'LCCI'], axis = 1)\n",
    "\n",
    "# drops crop columns and rows with NA present (only occurs in 4band rows for extra bands))\n",
    "nocrop_eight = nocrop[NAmask]\n"
   ]
  },
  {
   "cell_type": "markdown",
   "metadata": {},
   "source": [
    "## GridSearch CV for Models"
   ]
  },
  {
   "cell_type": "markdown",
   "metadata": {},
   "source": [
    "### Function"
   ]
  },
  {
   "cell_type": "code",
   "execution_count": 6,
   "metadata": {},
   "outputs": [],
   "source": [
    "def perform_grid_search_cv(data, yvar, param_grid, Classifier, metric, cln):\n",
    "    gkf = GroupKFold(n_splits=6)\n",
    "\n",
    "    # Vars for data subset\n",
    "    X = data.drop(yvar, axis=1)\n",
    "    y = data[yvar]  # Changed to 1D array\n",
    "    cluster = data['cluster'].values\n",
    "\n",
    "    # Determine best model for data and classifier using GridSearchCV\n",
    "    clf = GridSearchCV(Classifier,\n",
    "                       param_grid,\n",
    "                       scoring=metric,\n",
    "                       verbose=1,\n",
    "                       cv=gkf.split(X, y, cluster),\n",
    "                       n_jobs=-1)\n",
    "\n",
    "    # Fit using all data to find the best parameters\n",
    "    clf.fit(X, y)\n",
    "    y_pred = clf.best_estimator_.predict(X)\n",
    "    cm = confusion_matrix(y, y_pred, labels= [1,0])\n",
    "    cm = cm / X.shape[0]\n",
    "\n",
    "    # Output mean of the metrics\n",
    "    print(clf.best_estimator_)\n",
    "    print(f\"N rows: {X.shape[0]}\")\n",
    "    print(f\"Balanced Accuracy: {clf.best_score_}\")\n",
    "    print(f\"Total No Leach Points: {final_df['leach'].value_counts()[0]}\")\n",
    "    print(f\"Total Leach Points: {final_df['leach'].value_counts()[1]}\")\n",
    "    print(\"Confusion Matrix:\")\n",
    "    print(cm)\n",
    "\n",
    "    # Store model\n",
    "    final_model = clf.best_estimator_\n",
    "    final_model.fit(X,y)\n",
    "\n",
    "    model_name = \"\".join([\"models/m1/\", cln, \"_m1.joblib\"])\n",
    "    dump(final_model, model_name)"
   ]
  },
  {
   "cell_type": "markdown",
   "metadata": {},
   "source": [
    "### Random Forest"
   ]
  },
  {
   "cell_type": "code",
   "execution_count": 8,
   "metadata": {},
   "outputs": [
    {
     "name": "stdout",
     "output_type": "stream",
     "text": [
      "Fitting 6 folds for each of 1296 candidates, totalling 7776 fits\n",
      "RandomForestClassifier(criterion='entropy', n_estimators=200, random_state=0)\n",
      "N rows: 177\n",
      "Balanced Accuracy: 0.7586093402741\n",
      "Total No Leach Points: 116\n",
      "Total Leach Points: 61\n",
      "Confusion Matrix:\n",
      "[[0.34463277 0.        ]\n",
      " [0.         0.65536723]]\n",
      "----------------------------------------------------------------------------------------------------\n"
     ]
    }
   ],
   "source": [
    "param_grid = {\n",
    "    'class_weight': ['balanced', None],\n",
    "    'max_features': ['sqrt', 'log2', None],\n",
    "    'max_depth': [None,10,50,100],\n",
    "    'n_estimators': [100,200,500],\n",
    "    'min_samples_split': [2, 5, 10],\n",
    "    'min_samples_leaf': [1, 2, 4],\n",
    "    'criterion': ['gini', 'entropy']\n",
    "}\n",
    "\n",
    "Classifier = RandomForestClassifier(random_state=0)\n",
    "cl_name = \"RF\"\n",
    "metric = 'balanced_accuracy' #see options at https://scikit-learn.org/stable/modules/model_evaluation.html#scoring-parameter\n",
    "yvar = 'leach'\n",
    "\n",
    "perform_grid_search_cv(fourband, yvar, param_grid, Classifier, metric, cl_name)\n",
    "print(\"-\"*100)\n",
    "# perform_grid_search_cv(eightband, yvar, param_grid, Classifier, metric, cl_name)"
   ]
  },
  {
   "cell_type": "markdown",
   "metadata": {},
   "source": [
    "### Logistic Regression"
   ]
  },
  {
   "cell_type": "code",
   "execution_count": 9,
   "metadata": {},
   "outputs": [
    {
     "name": "stdout",
     "output_type": "stream",
     "text": [
      "Fitting 6 folds for each of 200 candidates, totalling 1200 fits\n",
      "LogisticRegression(C=5, max_iter=1000, random_state=0, solver='newton-cg')\n",
      "N rows: 177\n",
      "Balanced Accuracy: 0.772743005151472\n",
      "Total No Leach Points: 116\n",
      "Total Leach Points: 61\n",
      "Confusion Matrix:\n",
      "[[0.25423729 0.09039548]\n",
      " [0.03954802 0.61581921]]\n",
      "----------------------------------------------------------------------------------------------------\n"
     ]
    },
    {
     "name": "stderr",
     "output_type": "stream",
     "text": [
      "c:\\Users\\guerra\\AppData\\Local\\anaconda3\\envs\\skl-1.2.2\\Lib\\site-packages\\scipy\\optimize\\_linesearch.py:466: LineSearchWarning: The line search algorithm did not converge\n",
      "  warn('The line search algorithm did not converge', LineSearchWarning)\n",
      "c:\\Users\\guerra\\AppData\\Local\\anaconda3\\envs\\skl-1.2.2\\Lib\\site-packages\\scipy\\optimize\\_linesearch.py:314: LineSearchWarning: The line search algorithm did not converge\n",
      "  warn('The line search algorithm did not converge', LineSearchWarning)\n",
      "c:\\Users\\guerra\\AppData\\Local\\anaconda3\\envs\\skl-1.2.2\\Lib\\site-packages\\scipy\\optimize\\_linesearch.py:466: LineSearchWarning: The line search algorithm did not converge\n",
      "  warn('The line search algorithm did not converge', LineSearchWarning)\n",
      "c:\\Users\\guerra\\AppData\\Local\\anaconda3\\envs\\skl-1.2.2\\Lib\\site-packages\\scipy\\optimize\\_linesearch.py:314: LineSearchWarning: The line search algorithm did not converge\n",
      "  warn('The line search algorithm did not converge', LineSearchWarning)\n"
     ]
    }
   ],
   "source": [
    "param_grid = {\n",
    "    'penalty': ['l1', 'l2', 'elasticnet', None],\n",
    "    'C': [0.1, 0.5, 1, 5, 10],\n",
    "    'solver': ['newton-cg', 'lbfgs', 'liblinear', 'sag', 'saga'],\n",
    "    'class_weight': [None, 'balanced']\n",
    "}\n",
    "\n",
    "Classifier = LogisticRegression(max_iter = 1000, random_state=0)\n",
    "cl_name = \"LogReg\"\n",
    "metric = 'balanced_accuracy' #see options at https://scikit-learn.org/stable/modules/model_evaluation.html#scoring-parameter\n",
    "yvar = 'leach'\n",
    "\n",
    "perform_grid_search_cv(fourband, yvar, param_grid, Classifier, metric, cl_name)\n",
    "print(\"-\"*100)\n",
    "# perform_grid_search_cv(eightband, yvar, param_grid, Classifier, metric, cl_name)"
   ]
  },
  {
   "cell_type": "markdown",
   "metadata": {},
   "source": [
    "### KNN"
   ]
  },
  {
   "cell_type": "code",
   "execution_count": 10,
   "metadata": {},
   "outputs": [
    {
     "name": "stdout",
     "output_type": "stream",
     "text": [
      "Fitting 6 folds for each of 96 candidates, totalling 576 fits\n",
      "KNeighborsClassifier(metric='manhattan', n_neighbors=4, weights='distance')\n",
      "N rows: 177\n",
      "Balanced Accuracy: 0.7735230645699752\n",
      "Total No Leach Points: 116\n",
      "Total Leach Points: 61\n",
      "Confusion Matrix:\n",
      "[[0.34463277 0.        ]\n",
      " [0.         0.65536723]]\n",
      "----------------------------------------------------------------------------------------------------\n"
     ]
    }
   ],
   "source": [
    "param_grid = {\n",
    "    'n_neighbors': [2, 3, 4, 5, 10, 15],\n",
    "    'weights': ['uniform', 'distance'],\n",
    "    'algorithm': ['auto', 'ball_tree', 'kd_tree', 'brute'],\n",
    "    'metric': ['euclidean', 'manhattan']\n",
    "}\n",
    "\n",
    "Classifier = KNeighborsClassifier()\n",
    "cl_name = \"KNN\"\n",
    "metric = 'balanced_accuracy' #see options at https://scikit-learn.org/stable/modules/model_evaluation.html#scoring-parameter\n",
    "yvar = 'leach'\n",
    "\n",
    "perform_grid_search_cv(fourband, yvar, param_grid, Classifier, metric, cl_name)\n",
    "print(\"-\"*100)\n",
    "# perform_grid_search_cv(eightband, yvar, param_grid, Classifier, metric, cl_name)"
   ]
  },
  {
   "cell_type": "code",
   "execution_count": null,
   "metadata": {},
   "outputs": [],
   "source": []
  }
 ],
 "metadata": {
  "kernelspec": {
   "display_name": "skl-1.2.2",
   "language": "python",
   "name": "python3"
  },
  "language_info": {
   "codemirror_mode": {
    "name": "ipython",
    "version": 3
   },
   "file_extension": ".py",
   "mimetype": "text/x-python",
   "name": "python",
   "nbconvert_exporter": "python",
   "pygments_lexer": "ipython3",
   "version": "3.11.5"
  },
  "orig_nbformat": 4
 },
 "nbformat": 4,
 "nbformat_minor": 2
}
