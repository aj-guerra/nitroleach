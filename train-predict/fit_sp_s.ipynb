{
 "cells": [
  {
   "cell_type": "markdown",
   "metadata": {},
   "source": [
    "## Init + Transform"
   ]
  },
  {
   "cell_type": "code",
   "execution_count": 10,
   "metadata": {},
   "outputs": [],
   "source": [
    "from sklearn.ensemble import RandomForestClassifier\n",
    "from sklearn.linear_model import LogisticRegression\n",
    "from sklearn.neighbors import KNeighborsClassifier\n",
    "\n",
    "import os\n",
    "import sys\n",
    "import joblib\n",
    "import numpy as np\n",
    "import pandas as pd\n",
    "from joblib import dump\n",
    "import subprocess as sp\n",
    "# import dask.array as da\n",
    "from pprint import pprint\n",
    "import matplotlib.pyplot as plt\n",
    "# from odc.io.cgroups import get_cpu_quota\n",
    "from sklearn.model_selection import GridSearchCV, GroupKFold, KFold, RandomizedSearchCV\n",
    "from sklearn.preprocessing import StandardScaler, OneHotEncoder\n",
    "from sklearn.metrics import roc_curve, auc, balanced_accuracy_score, accuracy_score, f1_score, roc_auc_score, confusion_matrix\n",
    "from sklearn.exceptions import FitFailedWarning\n",
    "\n",
    "import warnings\n",
    "warnings.simplefilter(action='ignore', category=FutureWarning)\n",
    "warnings.filterwarnings(\"ignore\", category=FitFailedWarning)\n",
    "warnings.filterwarnings(\"ignore\", message=\"One or more of the test scores are non-finite:\")\n",
    "warnings.filterwarnings(\"ignore\", message=\"Liblinear failed to converge, increase the number of iterations.\")\n"
   ]
  },
  {
   "cell_type": "code",
   "execution_count": 11,
   "metadata": {},
   "outputs": [
    {
     "name": "stderr",
     "output_type": "stream",
     "text": [
      "C:\\Users\\guerra\\AppData\\Local\\Temp\\ipykernel_10928\\3762786734.py:14: SettingWithCopyWarning: \n",
      "A value is trying to be set on a copy of a slice from a DataFrame.\n",
      "Try using .loc[row_indexer,col_indexer] = value instead\n",
      "\n",
      "See the caveats in the documentation: https://pandas.pydata.org/pandas-docs/stable/user_guide/indexing.html#returning-a-view-versus-a-copy\n",
      "  doy_column['doy_sin'] = np.sin(2 * np.pi * doy_column['doy'] / 365)\n",
      "C:\\Users\\guerra\\AppData\\Local\\Temp\\ipykernel_10928\\3762786734.py:15: SettingWithCopyWarning: \n",
      "A value is trying to be set on a copy of a slice from a DataFrame.\n",
      "Try using .loc[row_indexer,col_indexer] = value instead\n",
      "\n",
      "See the caveats in the documentation: https://pandas.pydata.org/pandas-docs/stable/user_guide/indexing.html#returning-a-view-versus-a-copy\n",
      "  doy_column['doy_cos'] = np.cos(2 * np.pi * doy_column['doy'] / 365)\n"
     ]
    }
   ],
   "source": [
    "model_input = pd.read_csv(\"data/sp_training_data.csv\")\n",
    "model_input.rename(columns={'nmin_90' : 'leach'}, inplace = True)\n",
    "\n",
    "# Separate columns\n",
    "crop_column = model_input[['crop']]\n",
    "doy_column = model_input[['doy']]\n",
    "cluster_column = model_input[['cluster']]\n",
    "\n",
    "# Nmin conversion to binary\n",
    "threshold = model_input['leach'].mean()\n",
    "nmin_column = (model_input['leach'] > threshold).astype(int)\n",
    "\n",
    "# Transform DOY into two dimensions using sine and cosine\n",
    "doy_column['doy_sin'] = np.sin(2 * np.pi * doy_column['doy'] / 365)\n",
    "doy_column['doy_cos'] = np.cos(2 * np.pi * doy_column['doy'] / 365)\n",
    "\n",
    "# One-hot encode the 'crop' column\n",
    "encoder = OneHotEncoder(sparse=False)\n",
    "crop_encoded = encoder.fit_transform(crop_column)\n",
    "crop_df = pd.DataFrame(crop_encoded, columns=encoder.get_feature_names_out(['crop']))\n",
    "\n",
    "# Drop 'crop' and 'doy' columns and the specified 'field' from the original DataFrame\n",
    "fields = model_input.drop(['crop', 'doy', 'leach', 'cluster'], axis=1)\n",
    "\n",
    "# Scale the remaining numerical features\n",
    "scaler = StandardScaler(with_mean=False)\n",
    "scaled_fields = scaler.fit_transform(fields)\n",
    "scaled_fields_df = pd.DataFrame(scaled_fields, columns=fields.columns)\n",
    "\n",
    "# Concatenate the transformed 'crop', 'doy', and scaled numerical features\n",
    "final_df = pd.concat([doy_column[['doy_sin', 'doy_cos']], crop_df, scaled_fields_df, cluster_column, nmin_column], axis=1)"
   ]
  },
  {
   "cell_type": "code",
   "execution_count": 31,
   "metadata": {},
   "outputs": [
    {
     "data": {
      "text/plain": [
       "leach\n",
       "0    116\n",
       "1     61\n",
       "Name: count, dtype: int64"
      ]
     },
     "execution_count": 31,
     "metadata": {},
     "output_type": "execute_result"
    }
   ],
   "source": [
    "final_df['leach'].value_counts()"
   ]
  },
  {
   "cell_type": "markdown",
   "metadata": {},
   "source": [
    "## Group"
   ]
  },
  {
   "cell_type": "code",
   "execution_count": 13,
   "metadata": {},
   "outputs": [],
   "source": [
    "# drops bands not in 4band spectrum and indices from them\n",
    "fourband = final_df.drop(['band_1', 'band_3', 'band_5', 'band_7', 'NDRE', 'MCARI', 'LCCI'], axis = 1)\n",
    "\n",
    "# drops rows with NA present (only occurs in 4band rows for extra bands)\n",
    "NAmask  = final_df.apply(lambda x: x.notna().all(), axis=1)\n",
    "eightband = final_df[NAmask]\n",
    "\n",
    "# drops crop columns and bands not in 4band spectrum and indices from them \n",
    "nocrop = pd.concat([doy_column[['doy_sin', 'doy_cos']], scaled_fields_df, cluster_column, nmin_column], axis=1)\n",
    "nocrop_four = nocrop.drop(['band_1', 'band_3', 'band_5', 'band_7', 'NDRE', 'MCARI', 'LCCI'], axis = 1)\n",
    "\n",
    "# drops crop columns and rows with NA present (only occurs in 4band rows for extra bands))\n",
    "nocrop_eight = nocrop[NAmask]\n"
   ]
  },
  {
   "cell_type": "markdown",
   "metadata": {},
   "source": [
    "## GridSearch CV for Models"
   ]
  },
  {
   "cell_type": "markdown",
   "metadata": {},
   "source": [
    "### Function"
   ]
  },
  {
   "cell_type": "code",
   "execution_count": 38,
   "metadata": {},
   "outputs": [],
   "source": [
    "def perform_grid_search_cv(data, yvar, param_grid, Classifier, metric, cln):\n",
    "    gkf = GroupKFold(n_splits=5)\n",
    "\n",
    "    # Vars for data subset\n",
    "    X = data.drop(yvar, axis=1)\n",
    "    y = data[yvar]  # Changed to 1D array\n",
    "    cluster = data['cluster'].values\n",
    "\n",
    "    # Lists to store results of CV testing\n",
    "    acc = []\n",
    "    balacc = []\n",
    "    f1 = []\n",
    "    roc_auc = []\n",
    "\n",
    "    # Determine best model for data and classifier using GridSearchCV\n",
    "    clf = RandomizedSearchCV(Classifier,\n",
    "                             param_grid,\n",
    "                             n_iter=100,\n",
    "                             scoring=metric,\n",
    "                             verbose=1,\n",
    "                             cv=gkf.split(X, y, cluster),\n",
    "                             n_jobs=-1)\n",
    "\n",
    "    # Fit using all data to find the best parameters\n",
    "    clf.fit(X, y)\n",
    "\n",
    "    cm_total = None  \n",
    "\n",
    "    for train_index, test_index in gkf.split(X, y, cluster):\n",
    "        X_train, X_test = X.iloc[train_index], X.iloc[test_index]\n",
    "        y_train, y_test = y.iloc[train_index], y.iloc[test_index]\n",
    "\n",
    "        # Use the best estimator from GridSearchCV\n",
    "        best_model = clf.best_estimator_\n",
    "\n",
    "        # Fit and predict\n",
    "        best_model.fit(X_train, y_train)\n",
    "        y_pred = best_model.predict(X_test)\n",
    "\n",
    "        # Calculate metrics and append to lists\n",
    "        acc.append(accuracy_score(y_test, y_pred))\n",
    "        balacc.append(balanced_accuracy_score(y_test, y_pred))\n",
    "        f1.append(f1_score(y_test, y_pred))\n",
    "        roc_auc.append(roc_auc_score(y_test, y_pred))\n",
    "\n",
    "        # Update the total confusion matrix\n",
    "        cm = confusion_matrix(y_test, y_pred, normalize=\"all\")\n",
    "        if cm_total is None:\n",
    "            cm_total = cm\n",
    "        else:\n",
    "            cm_total += cm\n",
    "\n",
    "    # Output mean of the metrics\n",
    "    print(clf.best_estimator_)\n",
    "    print(f\"Mean Balanced Accuracy: {np.mean(balacc)}\")\n",
    "    print(f\"Std Balanced Accuracy: {np.std(acc)}\")\n",
    "    print(f\"N rows: {X.shape[0]}\")\n",
    "    print(f\"Total No Leach Points: {final_df['leach'].value_counts()[0]}\")\n",
    "    print(f\"Total Leach Points: {final_df['leach'].value_counts()[1]}\")\n",
    "    print(\"Confusion Matrix:\")\n",
    "    print(cm_total)\n",
    "    # print(f\"Mean Accuracy: {np.mean(acc)}\")\n",
    "    # print(f\"Std Accuracy: {np.std(acc)}\")\n",
    "    # print(f\"Mean F1 Score: {np.mean(f1)}\")\n",
    "    # print(f\"Std F1 Score: {np.std(f1)}\")\n",
    "    # print(f\"Mean ROC AUC: {np.mean(roc_auc)}\")\n",
    "    # print(f\"Std ROC AUC: {np.std(roc_auc)}\")\n",
    "\n",
    "\n",
    "    # Store model\n",
    "    final_model = clf.best_estimator_\n",
    "    final_model.fit(X,y)\n",
    "\n",
    "    model_name = \"\".join([\"models/sp_s/\", cln, \"_model.joblib\"])\n",
    "    dump(final_model, model_name)"
   ]
  },
  {
   "cell_type": "markdown",
   "metadata": {},
   "source": [
    "### Random Forest"
   ]
  },
  {
   "cell_type": "code",
   "execution_count": 17,
   "metadata": {},
   "outputs": [
    {
     "name": "stdout",
     "output_type": "stream",
     "text": [
      "Fitting 5 folds for each of 100 candidates, totalling 500 fits\n",
      "RandomForestClassifier(class_weight='balanced', criterion='entropy',\n",
      "                       max_depth=30, max_features=None, n_estimators=1733,\n",
      "                       random_state=0)\n",
      "Mean Balanced Accuracy: 0.7413202167266721\n",
      "Std Balanced Accuracy: 0.07982554139688397\n",
      "N rows: 177\n",
      "Confusion Matrix:\n",
      "[[99 17]\n",
      " [23 38]]\n",
      "----------------------------------------------------------------------------------------------------\n"
     ]
    }
   ],
   "source": [
    "n_estimators = [int(x) for x in np.linspace(start = 100, stop = 5000, num = 10)]\n",
    "max_depth = [int(x) for x in np.linspace(10, 110, num = 11)]\n",
    "min_samples_split = [2, 5, 10]\n",
    "min_samples_leaf = [1, 2, 4]\n",
    "max_depth.append(None)\n",
    "\n",
    "param_grid = {\n",
    "    'class_weight': ['balanced', None],\n",
    "    'max_features': ['sqrt', 'log2', None],\n",
    "    'max_depth': max_depth,\n",
    "    'n_estimators': n_estimators,\n",
    "    'min_samples_split': min_samples_split,\n",
    "    'min_samples_leaf': min_samples_leaf,\n",
    "    'criterion': ['gini', 'entropy']\n",
    "}\n",
    "\n",
    "Classifier = RandomForestClassifier(random_state=0)\n",
    "cl_name = \"RF\"\n",
    "metric = 'balanced_accuracy' #see options at https://scikit-learn.org/stable/modules/model_evaluation.html#scoring-parameter\n",
    "yvar = 'leach'\n",
    "\n",
    "perform_grid_search_cv(fourband, yvar, param_grid, Classifier, metric, cl_name)\n",
    "print(\"-\"*100)\n",
    "# perform_grid_search_cv(eightband, yvar, param_grid, Classifier, metric, cl_name)"
   ]
  },
  {
   "cell_type": "markdown",
   "metadata": {},
   "source": [
    "### Logistic Regression"
   ]
  },
  {
   "cell_type": "code",
   "execution_count": 39,
   "metadata": {},
   "outputs": [
    {
     "name": "stdout",
     "output_type": "stream",
     "text": [
      "Fitting 5 folds for each of 100 candidates, totalling 500 fits\n"
     ]
    },
    {
     "name": "stderr",
     "output_type": "stream",
     "text": [
      "c:\\Users\\guerra\\AppData\\Local\\anaconda3\\envs\\skl-1.2.2\\Lib\\site-packages\\scipy\\optimize\\_linesearch.py:466: LineSearchWarning: The line search algorithm did not converge\n",
      "  warn('The line search algorithm did not converge', LineSearchWarning)\n",
      "c:\\Users\\guerra\\AppData\\Local\\anaconda3\\envs\\skl-1.2.2\\Lib\\site-packages\\scipy\\optimize\\_linesearch.py:314: LineSearchWarning: The line search algorithm did not converge\n",
      "  warn('The line search algorithm did not converge', LineSearchWarning)\n",
      "c:\\Users\\guerra\\AppData\\Local\\anaconda3\\envs\\skl-1.2.2\\Lib\\site-packages\\scipy\\optimize\\_linesearch.py:466: LineSearchWarning: The line search algorithm did not converge\n",
      "  warn('The line search algorithm did not converge', LineSearchWarning)\n",
      "c:\\Users\\guerra\\AppData\\Local\\anaconda3\\envs\\skl-1.2.2\\Lib\\site-packages\\scipy\\optimize\\_linesearch.py:314: LineSearchWarning: The line search algorithm did not converge\n",
      "  warn('The line search algorithm did not converge', LineSearchWarning)\n",
      "c:\\Users\\guerra\\AppData\\Local\\anaconda3\\envs\\skl-1.2.2\\Lib\\site-packages\\scipy\\optimize\\_linesearch.py:466: LineSearchWarning: The line search algorithm did not converge\n",
      "  warn('The line search algorithm did not converge', LineSearchWarning)\n",
      "c:\\Users\\guerra\\AppData\\Local\\anaconda3\\envs\\skl-1.2.2\\Lib\\site-packages\\scipy\\optimize\\_linesearch.py:314: LineSearchWarning: The line search algorithm did not converge\n",
      "  warn('The line search algorithm did not converge', LineSearchWarning)\n",
      "c:\\Users\\guerra\\AppData\\Local\\anaconda3\\envs\\skl-1.2.2\\Lib\\site-packages\\sklearn\\utils\\optimize.py:203: UserWarning: Line Search failed\n",
      "  warnings.warn(\"Line Search failed\")\n",
      "c:\\Users\\guerra\\AppData\\Local\\anaconda3\\envs\\skl-1.2.2\\Lib\\site-packages\\scipy\\optimize\\_linesearch.py:466: LineSearchWarning: The line search algorithm did not converge\n",
      "  warn('The line search algorithm did not converge', LineSearchWarning)\n",
      "c:\\Users\\guerra\\AppData\\Local\\anaconda3\\envs\\skl-1.2.2\\Lib\\site-packages\\scipy\\optimize\\_linesearch.py:314: LineSearchWarning: The line search algorithm did not converge\n",
      "  warn('The line search algorithm did not converge', LineSearchWarning)\n",
      "c:\\Users\\guerra\\AppData\\Local\\anaconda3\\envs\\skl-1.2.2\\Lib\\site-packages\\sklearn\\utils\\optimize.py:203: UserWarning: Line Search failed\n",
      "  warnings.warn(\"Line Search failed\")\n",
      "c:\\Users\\guerra\\AppData\\Local\\anaconda3\\envs\\skl-1.2.2\\Lib\\site-packages\\scipy\\optimize\\_linesearch.py:466: LineSearchWarning: The line search algorithm did not converge\n",
      "  warn('The line search algorithm did not converge', LineSearchWarning)\n",
      "c:\\Users\\guerra\\AppData\\Local\\anaconda3\\envs\\skl-1.2.2\\Lib\\site-packages\\scipy\\optimize\\_linesearch.py:314: LineSearchWarning: The line search algorithm did not converge\n",
      "  warn('The line search algorithm did not converge', LineSearchWarning)\n",
      "c:\\Users\\guerra\\AppData\\Local\\anaconda3\\envs\\skl-1.2.2\\Lib\\site-packages\\sklearn\\utils\\optimize.py:203: UserWarning: Line Search failed\n",
      "  warnings.warn(\"Line Search failed\")\n",
      "c:\\Users\\guerra\\AppData\\Local\\anaconda3\\envs\\skl-1.2.2\\Lib\\site-packages\\scipy\\optimize\\_linesearch.py:466: LineSearchWarning: The line search algorithm did not converge\n",
      "  warn('The line search algorithm did not converge', LineSearchWarning)\n",
      "c:\\Users\\guerra\\AppData\\Local\\anaconda3\\envs\\skl-1.2.2\\Lib\\site-packages\\scipy\\optimize\\_linesearch.py:314: LineSearchWarning: The line search algorithm did not converge\n",
      "  warn('The line search algorithm did not converge', LineSearchWarning)\n",
      "c:\\Users\\guerra\\AppData\\Local\\anaconda3\\envs\\skl-1.2.2\\Lib\\site-packages\\scipy\\optimize\\_linesearch.py:466: LineSearchWarning: The line search algorithm did not converge\n",
      "  warn('The line search algorithm did not converge', LineSearchWarning)\n",
      "c:\\Users\\guerra\\AppData\\Local\\anaconda3\\envs\\skl-1.2.2\\Lib\\site-packages\\scipy\\optimize\\_linesearch.py:314: LineSearchWarning: The line search algorithm did not converge\n",
      "  warn('The line search algorithm did not converge', LineSearchWarning)\n"
     ]
    },
    {
     "name": "stdout",
     "output_type": "stream",
     "text": [
      "LogisticRegression(C=1, class_weight='balanced', random_state=0,\n",
      "                   solver='newton-cg')\n",
      "Mean Balanced Accuracy: 0.7629290127763036\n",
      "Std Balanced Accuracy: 0.07546631615462507\n",
      "N rows: 177\n",
      "Total No Leach Points: 116\n",
      "Total Leach Points: 61\n",
      "Confusion Matrix:\n",
      "[[3.89079945 1.10920055]\n",
      " [1.26150932 3.73849068]]\n",
      "----------------------------------------------------------------------------------------------------\n",
      "Fitting 5 folds for each of 100 candidates, totalling 500 fits\n",
      "LogisticRegression(C=5, class_weight='balanced', random_state=0,\n",
      "                   solver='liblinear')\n",
      "Mean Balanced Accuracy: 0.7377272727272728\n",
      "Std Balanced Accuracy: 0.10070641216363715\n",
      "N rows: 62\n",
      "Total No Leach Points: 116\n",
      "Total Leach Points: 61\n",
      "Confusion Matrix:\n",
      "[[4.12727273 0.87272727]\n",
      " [1.75       3.25      ]]\n"
     ]
    }
   ],
   "source": [
    "param_grid = {\n",
    "    'penalty': ['l1', 'l2', 'elasticnet', None],\n",
    "    'C': [0.1, 0.5, 1, 5, 10],\n",
    "    'solver': ['newton-cg', 'lbfgs', 'liblinear', 'sag', 'saga'],\n",
    "    'class_weight': [None, 'balanced']\n",
    "}\n",
    "\n",
    "Classifier = LogisticRegression(random_state=0)\n",
    "cl_name = \"LogReg\"\n",
    "metric = 'balanced_accuracy' #see options at https://scikit-learn.org/stable/modules/model_evaluation.html#scoring-parameter\n",
    "yvar = 'leach'\n",
    "\n",
    "perform_grid_search_cv(fourband, yvar, param_grid, Classifier, metric, cl_name)\n",
    "print(\"-\"*100)\n",
    "perform_grid_search_cv(eightband, yvar, param_grid, Classifier, metric, cl_name)"
   ]
  },
  {
   "cell_type": "markdown",
   "metadata": {},
   "source": [
    "### KNN"
   ]
  },
  {
   "cell_type": "code",
   "execution_count": 40,
   "metadata": {},
   "outputs": [
    {
     "name": "stderr",
     "output_type": "stream",
     "text": [
      "c:\\Users\\guerra\\AppData\\Local\\anaconda3\\envs\\skl-1.2.2\\Lib\\site-packages\\sklearn\\model_selection\\_search.py:305: UserWarning: The total space of parameters 96 is smaller than n_iter=100. Running 96 iterations. For exhaustive searches, use GridSearchCV.\n",
      "  warnings.warn(\n"
     ]
    },
    {
     "name": "stdout",
     "output_type": "stream",
     "text": [
      "Fitting 5 folds for each of 96 candidates, totalling 480 fits\n",
      "KNeighborsClassifier(metric='manhattan', n_neighbors=3)\n",
      "Mean Balanced Accuracy: 0.7832171721104695\n",
      "Std Balanced Accuracy: 0.11052059386622817\n",
      "N rows: 177\n",
      "Total No Leach Points: 116\n",
      "Total Leach Points: 61\n",
      "Confusion Matrix:\n",
      "[[4.25864802 0.74135198]\n",
      " [1.4264763  3.5735237 ]]\n",
      "----------------------------------------------------------------------------------------------------\n",
      "Fitting 5 folds for each of 96 candidates, totalling 480 fits\n"
     ]
    },
    {
     "name": "stderr",
     "output_type": "stream",
     "text": [
      "c:\\Users\\guerra\\AppData\\Local\\anaconda3\\envs\\skl-1.2.2\\Lib\\site-packages\\sklearn\\model_selection\\_search.py:305: UserWarning: The total space of parameters 96 is smaller than n_iter=100. Running 96 iterations. For exhaustive searches, use GridSearchCV.\n",
      "  warnings.warn(\n"
     ]
    },
    {
     "name": "stdout",
     "output_type": "stream",
     "text": [
      "KNeighborsClassifier(metric='manhattan', n_neighbors=3)\n",
      "Mean Balanced Accuracy: 0.7207142857142858\n",
      "Std Balanced Accuracy: 0.1342448183656818\n",
      "N rows: 62\n",
      "Total No Leach Points: 116\n",
      "Total Leach Points: 61\n",
      "Confusion Matrix:\n",
      "[[4.45714286 0.54285714]\n",
      " [2.25       2.75      ]]\n"
     ]
    }
   ],
   "source": [
    "param_grid = {\n",
    "    'n_neighbors': [2, 3, 4, 5, 10, 15],\n",
    "    'weights': ['uniform', 'distance'],\n",
    "    'algorithm': ['auto', 'ball_tree', 'kd_tree', 'brute'],\n",
    "    'metric': ['euclidean', 'manhattan']\n",
    "}\n",
    "\n",
    "Classifier = KNeighborsClassifier()\n",
    "cl_name = \"KNN\"\n",
    "metric = 'balanced_accuracy' #see options at https://scikit-learn.org/stable/modules/model_evaluation.html#scoring-parameter\n",
    "yvar = 'leach'\n",
    "\n",
    "perform_grid_search_cv(fourband, yvar, param_grid, Classifier, metric, cl_name)\n",
    "print(\"-\"*100)\n",
    "perform_grid_search_cv(eightband, yvar, param_grid, Classifier, metric, cl_name)"
   ]
  },
  {
   "cell_type": "code",
   "execution_count": null,
   "metadata": {},
   "outputs": [],
   "source": []
  }
 ],
 "metadata": {
  "kernelspec": {
   "display_name": "skl-1.2.2",
   "language": "python",
   "name": "python3"
  },
  "language_info": {
   "codemirror_mode": {
    "name": "ipython",
    "version": 3
   },
   "file_extension": ".py",
   "mimetype": "text/x-python",
   "name": "python",
   "nbconvert_exporter": "python",
   "pygments_lexer": "ipython3",
   "version": "3.11.5"
  },
  "orig_nbformat": 4
 },
 "nbformat": 4,
 "nbformat_minor": 2
}
