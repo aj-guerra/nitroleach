{
 "cells": [
  {
   "cell_type": "markdown",
   "metadata": {},
   "source": [
    "## Init + Transform"
   ]
  },
  {
   "cell_type": "code",
   "execution_count": 1,
   "metadata": {},
   "outputs": [],
   "source": [
    "from sklearn.ensemble import RandomForestClassifier\n",
    "from sklearn.linear_model import LogisticRegression\n",
    "from sklearn.neighbors import KNeighborsClassifier\n",
    "\n",
    "import os\n",
    "import sys\n",
    "import joblib\n",
    "import numpy as np\n",
    "import pandas as pd\n",
    "from joblib import dump\n",
    "import subprocess as sp\n",
    "# import dask.array as da\n",
    "from pprint import pprint\n",
    "import matplotlib.pyplot as plt\n",
    "# from odc.io.cgroups import get_cpu_quota\n",
    "from sklearn.model_selection import GridSearchCV, GroupKFold, KFold\n",
    "from sklearn.preprocessing import StandardScaler, OneHotEncoder\n",
    "from sklearn.metrics import roc_curve, auc, balanced_accuracy_score, accuracy_score, f1_score, roc_auc_score\n",
    "from sklearn.exceptions import FitFailedWarning\n",
    "\n",
    "import warnings\n",
    "warnings.simplefilter(action='ignore', category=FutureWarning)\n",
    "warnings.filterwarnings(\"ignore\", category=FitFailedWarning)\n",
    "warnings.filterwarnings(\"ignore\", message=\"One or more of the test scores are non-finite:\")\n",
    "warnings.filterwarnings(\"ignore\", message=\"Liblinear failed to converge, increase the number of iterations.\")\n"
   ]
  },
  {
   "cell_type": "code",
   "execution_count": 2,
   "metadata": {},
   "outputs": [
    {
     "name": "stderr",
     "output_type": "stream",
     "text": [
      "C:\\Users\\guerra\\AppData\\Local\\Temp\\ipykernel_22416\\3762786734.py:14: SettingWithCopyWarning: \n",
      "A value is trying to be set on a copy of a slice from a DataFrame.\n",
      "Try using .loc[row_indexer,col_indexer] = value instead\n",
      "\n",
      "See the caveats in the documentation: https://pandas.pydata.org/pandas-docs/stable/user_guide/indexing.html#returning-a-view-versus-a-copy\n",
      "  doy_column['doy_sin'] = np.sin(2 * np.pi * doy_column['doy'] / 365)\n",
      "C:\\Users\\guerra\\AppData\\Local\\Temp\\ipykernel_22416\\3762786734.py:15: SettingWithCopyWarning: \n",
      "A value is trying to be set on a copy of a slice from a DataFrame.\n",
      "Try using .loc[row_indexer,col_indexer] = value instead\n",
      "\n",
      "See the caveats in the documentation: https://pandas.pydata.org/pandas-docs/stable/user_guide/indexing.html#returning-a-view-versus-a-copy\n",
      "  doy_column['doy_cos'] = np.cos(2 * np.pi * doy_column['doy'] / 365)\n"
     ]
    }
   ],
   "source": [
    "model_input = pd.read_csv(\"data/sp_training_data.csv\")\n",
    "model_input.rename(columns={'nmin_90' : 'leach'}, inplace = True)\n",
    "\n",
    "# Separate columns\n",
    "crop_column = model_input[['crop']]\n",
    "doy_column = model_input[['doy']]\n",
    "cluster_column = model_input[['cluster']]\n",
    "\n",
    "# Nmin conversion to binary\n",
    "threshold = model_input['leach'].mean()\n",
    "nmin_column = (model_input['leach'] > threshold).astype(int)\n",
    "\n",
    "# Transform DOY into two dimensions using sine and cosine\n",
    "doy_column['doy_sin'] = np.sin(2 * np.pi * doy_column['doy'] / 365)\n",
    "doy_column['doy_cos'] = np.cos(2 * np.pi * doy_column['doy'] / 365)\n",
    "\n",
    "# One-hot encode the 'crop' column\n",
    "encoder = OneHotEncoder(sparse=False)\n",
    "crop_encoded = encoder.fit_transform(crop_column)\n",
    "crop_df = pd.DataFrame(crop_encoded, columns=encoder.get_feature_names_out(['crop']))\n",
    "\n",
    "# Drop 'crop' and 'doy' columns and the specified 'field' from the original DataFrame\n",
    "fields = model_input.drop(['crop', 'doy', 'leach', 'cluster'], axis=1)\n",
    "\n",
    "# Scale the remaining numerical features\n",
    "scaler = StandardScaler(with_mean=False)\n",
    "scaled_fields = scaler.fit_transform(fields)\n",
    "scaled_fields_df = pd.DataFrame(scaled_fields, columns=fields.columns)\n",
    "\n",
    "# Concatenate the transformed 'crop', 'doy', and scaled numerical features\n",
    "final_df = pd.concat([doy_column[['doy_sin', 'doy_cos']], crop_df, scaled_fields_df, cluster_column, nmin_column], axis=1)"
   ]
  },
  {
   "cell_type": "code",
   "execution_count": 3,
   "metadata": {},
   "outputs": [
    {
     "data": {
      "text/plain": [
       "leach\n",
       "0    121\n",
       "1     64\n",
       "Name: count, dtype: int64"
      ]
     },
     "execution_count": 3,
     "metadata": {},
     "output_type": "execute_result"
    }
   ],
   "source": [
    "final_df['leach'].value_counts()"
   ]
  },
  {
   "cell_type": "markdown",
   "metadata": {},
   "source": [
    "## Group"
   ]
  },
  {
   "cell_type": "code",
   "execution_count": 4,
   "metadata": {},
   "outputs": [],
   "source": [
    "# drops bands not in 4band spectrum and indices from them\n",
    "fourband = final_df.drop(['band_1', 'band_3', 'band_5', 'band_7', 'NDRE', 'MCARI', 'LCCI'], axis = 1)\n",
    "\n",
    "# drops rows with NA present (only occurs in 4band rows for extra bands)\n",
    "NAmask  = final_df.apply(lambda x: x.notna().all(), axis=1)\n",
    "eightband = final_df[NAmask]\n",
    "\n",
    "# drops crop columns and bands not in 4band spectrum and indices from them \n",
    "nocrop = pd.concat([doy_column[['doy_sin', 'doy_cos']], scaled_fields_df, cluster_column, nmin_column], axis=1)\n",
    "nocrop_four = nocrop.drop(['band_1', 'band_3', 'band_5', 'band_7', 'NDRE', 'MCARI', 'LCCI'], axis = 1)\n",
    "\n",
    "# drops crop columns and rows with NA present (only occurs in 4band rows for extra bands))\n",
    "nocrop_eight = nocrop[NAmask]\n"
   ]
  },
  {
   "cell_type": "markdown",
   "metadata": {},
   "source": [
    "## GridSearch CV for Models"
   ]
  },
  {
   "cell_type": "markdown",
   "metadata": {},
   "source": [
    "### Function"
   ]
  },
  {
   "cell_type": "code",
   "execution_count": 12,
   "metadata": {},
   "outputs": [],
   "source": [
    "def perform_grid_search_cv(data, yvar, param_grid, Classifier, metric, cln):\n",
    "    gkf = GroupKFold(n_splits=5)\n",
    "\n",
    "    # Vars for data subset\n",
    "    X = data.drop(yvar, axis=1)\n",
    "    y = data[yvar]  # Changed to 1D array\n",
    "    cluster = data['cluster'].values\n",
    "\n",
    "    # Lists to store results of CV testing\n",
    "    acc = []\n",
    "    balacc = []\n",
    "    f1 = []\n",
    "    roc_auc = []\n",
    "\n",
    "    # Determine best model for data and classifier using GridSearchCV\n",
    "    clf = GridSearchCV(Classifier,\n",
    "                        param_grid,\n",
    "                        scoring=metric,\n",
    "                        verbose=1,\n",
    "                        cv=gkf.split(X, y, cluster),\n",
    "                        n_jobs=-1)\n",
    "\n",
    "    # Fit using all data to find the best parameters\n",
    "    clf.fit(X, y)\n",
    "\n",
    "    for train_index, test_index in gkf.split(X, y, cluster):\n",
    "        X_train, X_test = X.iloc[train_index], X.iloc[test_index]\n",
    "        y_train, y_test = y.iloc[train_index], y.iloc[test_index]\n",
    "\n",
    "        # Use the best estimator from GridSearchCV\n",
    "        best_model = clf.best_estimator_\n",
    "\n",
    "        # Fit and predict\n",
    "        best_model.fit(X_train, y_train)\n",
    "        y_pred = best_model.predict(X_test)\n",
    "\n",
    "        # Calculate metrics and append to lists\n",
    "        acc.append(accuracy_score(y_test, y_pred))\n",
    "        balacc.append(balanced_accuracy_score(y_test, y_pred))\n",
    "        f1.append(f1_score(y_test, y_pred))\n",
    "        roc_auc.append(roc_auc_score(y_test, y_pred))\n",
    "\n",
    "    # Output mean of the metrics\n",
    "    print(clf.best_estimator_)\n",
    "    print(f\"Mean Balanced Accuracy: {np.mean(balacc)}\")\n",
    "    print(f\"Std Balanced Accuracy: {np.std(acc)}\")\n",
    "    print(f\"N rows: {X.shape[0]}\")\n",
    "    # print(f\"Mean Accuracy: {np.mean(acc)}\")\n",
    "    # print(f\"Std Accuracy: {np.std(acc)}\")\n",
    "    # print(f\"Mean F1 Score: {np.mean(f1)}\")\n",
    "    # print(f\"Std F1 Score: {np.std(f1)}\")\n",
    "    # print(f\"Mean ROC AUC: {np.mean(roc_auc)}\")\n",
    "    # print(f\"Std ROC AUC: {np.std(roc_auc)}\")\n",
    "\n",
    "\n",
    "    # Store model\n",
    "    final_model = clf.best_estimator_\n",
    "    final_model.fit(X,y)\n",
    "\n",
    "    model_name = \"\".join([\"models/sp_s/\", cln, \"_model.joblib\"])\n",
    "    dump(final_model, model_name)"
   ]
  },
  {
   "cell_type": "markdown",
   "metadata": {},
   "source": [
    "### Random Forest"
   ]
  },
  {
   "cell_type": "code",
   "execution_count": 13,
   "metadata": {},
   "outputs": [
    {
     "name": "stdout",
     "output_type": "stream",
     "text": [
      "Fitting 5 folds for each of 48 candidates, totalling 240 fits\n",
      "RandomForestClassifier(class_weight='balanced', max_features=None,\n",
      "                       n_estimators=25, random_state=0)\n",
      "Mean Balanced Accuracy: 0.7715859701735064\n",
      "Std Balanced Accuracy: 0.10263909539092704\n",
      "N rows: 185\n",
      "----------------------------------------------------------------------------------------------------\n",
      "Fitting 5 folds for each of 48 candidates, totalling 240 fits\n",
      "RandomForestClassifier(max_features=None, n_estimators=25, random_state=0)\n",
      "Mean Balanced Accuracy: 0.6716583416583416\n",
      "Std Balanced Accuracy: 0.11629619301331778\n",
      "N rows: 64\n"
     ]
    }
   ],
   "source": [
    "param_grid = {\n",
    "    'class_weight': ['balanced', None],\n",
    "    'max_features': ['sqrt', 'log2', None],\n",
    "    'n_estimators': [10, 25, 50, 500],\n",
    "    'criterion': ['gini', 'entropy']\n",
    "}\n",
    "\n",
    "Classifier = RandomForestClassifier(random_state=0)\n",
    "cl_name = \"RF\"\n",
    "metric = 'balanced_accuracy' #see options at https://scikit-learn.org/stable/modules/model_evaluation.html#scoring-parameter\n",
    "yvar = 'leach'\n",
    "\n",
    "perform_grid_search_cv(fourband, yvar, param_grid, Classifier, metric, cl_name)\n",
    "print(\"-\"*100)\n",
    "perform_grid_search_cv(eightband, yvar, param_grid, Classifier, metric, cl_name)"
   ]
  },
  {
   "cell_type": "markdown",
   "metadata": {},
   "source": [
    "### Logistic Regression"
   ]
  },
  {
   "cell_type": "code",
   "execution_count": 14,
   "metadata": {},
   "outputs": [
    {
     "name": "stdout",
     "output_type": "stream",
     "text": [
      "Fitting 5 folds for each of 200 candidates, totalling 1000 fits\n",
      "LogisticRegression(C=5, class_weight='balanced', penalty='l1', random_state=0,\n",
      "                   solver='liblinear')\n",
      "Mean Balanced Accuracy: 0.7824777778398572\n",
      "Std Balanced Accuracy: 0.06014579832242601\n",
      "N rows: 185\n",
      "----------------------------------------------------------------------------------------------------\n",
      "Fitting 5 folds for each of 200 candidates, totalling 1000 fits\n",
      "LogisticRegression(C=5, penalty='l1', random_state=0, solver='liblinear')\n",
      "Mean Balanced Accuracy: 0.7418181818181818\n",
      "Std Balanced Accuracy: 0.07332554246959005\n",
      "N rows: 64\n"
     ]
    }
   ],
   "source": [
    "param_grid = {\n",
    "    'penalty': ['l1', 'l2', 'elasticnet', None],\n",
    "    'C': [0.1, 0.5, 1, 5, 10],\n",
    "    'solver': ['newton-cg', 'lbfgs', 'liblinear', 'sag', 'saga'],\n",
    "    'class_weight': [None, 'balanced']\n",
    "}\n",
    "\n",
    "Classifier = LogisticRegression(random_state=0)\n",
    "cl_name = \"LogReg\"\n",
    "metric = 'balanced_accuracy' #see options at https://scikit-learn.org/stable/modules/model_evaluation.html#scoring-parameter\n",
    "yvar = 'leach'\n",
    "\n",
    "perform_grid_search_cv(fourband, yvar, param_grid, Classifier, metric, cl_name)\n",
    "print(\"-\"*100)\n",
    "perform_grid_search_cv(eightband, yvar, param_grid, Classifier, metric, cl_name)"
   ]
  },
  {
   "cell_type": "markdown",
   "metadata": {},
   "source": [
    "### KNN"
   ]
  },
  {
   "cell_type": "code",
   "execution_count": 15,
   "metadata": {},
   "outputs": [
    {
     "name": "stdout",
     "output_type": "stream",
     "text": [
      "Fitting 5 folds for each of 96 candidates, totalling 480 fits\n",
      "KNeighborsClassifier(metric='manhattan', n_neighbors=4, weights='distance')\n",
      "Mean Balanced Accuracy: 0.7585943186445034\n",
      "Std Balanced Accuracy: 0.0647674642250535\n",
      "N rows: 185\n",
      "----------------------------------------------------------------------------------------------------\n",
      "Fitting 5 folds for each of 96 candidates, totalling 480 fits\n",
      "KNeighborsClassifier(metric='manhattan')\n",
      "Mean Balanced Accuracy: 0.6573076923076923\n",
      "Std Balanced Accuracy: 0.07031029292898729\n",
      "N rows: 64\n"
     ]
    }
   ],
   "source": [
    "param_grid = {\n",
    "    'n_neighbors': [2, 3, 4, 5, 10, 15],\n",
    "    'weights': ['uniform', 'distance'],\n",
    "    'algorithm': ['auto', 'ball_tree', 'kd_tree', 'brute'],\n",
    "    'metric': ['euclidean', 'manhattan']\n",
    "}\n",
    "\n",
    "Classifier = KNeighborsClassifier()\n",
    "cl_name = \"KNN\"\n",
    "metric = 'balanced_accuracy' #see options at https://scikit-learn.org/stable/modules/model_evaluation.html#scoring-parameter\n",
    "yvar = 'leach'\n",
    "\n",
    "perform_grid_search_cv(fourband, yvar, param_grid, Classifier, metric, cl_name)\n",
    "print(\"-\"*100)\n",
    "perform_grid_search_cv(eightband, yvar, param_grid, Classifier, metric, cl_name)"
   ]
  }
 ],
 "metadata": {
  "kernelspec": {
   "display_name": "skl-1.2.2",
   "language": "python",
   "name": "python3"
  },
  "language_info": {
   "codemirror_mode": {
    "name": "ipython",
    "version": 3
   },
   "file_extension": ".py",
   "mimetype": "text/x-python",
   "name": "python",
   "nbconvert_exporter": "python",
   "pygments_lexer": "ipython3",
   "version": "3.11.5"
  },
  "orig_nbformat": 4
 },
 "nbformat": 4,
 "nbformat_minor": 2
}
