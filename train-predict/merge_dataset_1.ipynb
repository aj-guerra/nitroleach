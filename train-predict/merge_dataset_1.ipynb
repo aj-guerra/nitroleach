{
 "cells": [
  {
   "cell_type": "code",
   "execution_count": 1,
   "metadata": {
    "vscode": {
     "languageId": "r"
    }
   },
   "outputs": [
    {
     "name": "stderr",
     "output_type": "stream",
     "text": [
      "── \u001b[1mAttaching core tidyverse packages\u001b[22m ──────────────────────── tidyverse 2.0.0 ──\n",
      "\u001b[32m✔\u001b[39m \u001b[34mdplyr    \u001b[39m 1.1.2     \u001b[32m✔\u001b[39m \u001b[34mreadr    \u001b[39m 2.1.4\n",
      "\u001b[32m✔\u001b[39m \u001b[34mforcats  \u001b[39m 1.0.0     \u001b[32m✔\u001b[39m \u001b[34mstringr  \u001b[39m 1.5.0\n",
      "\u001b[32m✔\u001b[39m \u001b[34mggplot2  \u001b[39m 3.4.2     \u001b[32m✔\u001b[39m \u001b[34mtibble   \u001b[39m 3.2.1\n",
      "\u001b[32m✔\u001b[39m \u001b[34mlubridate\u001b[39m 1.9.2     \u001b[32m✔\u001b[39m \u001b[34mtidyr    \u001b[39m 1.3.0\n",
      "\u001b[32m✔\u001b[39m \u001b[34mpurrr    \u001b[39m 1.0.1     \n",
      "── \u001b[1mConflicts\u001b[22m ────────────────────────────────────────── tidyverse_conflicts() ──\n",
      "\u001b[31m✖\u001b[39m \u001b[34mdplyr\u001b[39m::\u001b[32mfilter()\u001b[39m masks \u001b[34mstats\u001b[39m::filter()\n",
      "\u001b[31m✖\u001b[39m \u001b[34mdplyr\u001b[39m::\u001b[32mlag()\u001b[39m    masks \u001b[34mstats\u001b[39m::lag()\n",
      "\u001b[36mℹ\u001b[39m Use the conflicted package (\u001b[3m\u001b[34m<http://conflicted.r-lib.org/>\u001b[39m\u001b[23m) to force all conflicts to become errors\n"
     ]
    }
   ],
   "source": [
    "library(tidyverse)"
   ]
  },
  {
   "cell_type": "code",
   "execution_count": 2,
   "metadata": {
    "vscode": {
     "languageId": "r"
    }
   },
   "outputs": [],
   "source": [
    "#import data\n",
    "planet <- read.csv(\"../prep/point/merge_ready/planet_mr.csv\")\n",
    "sampsens <- read.csv(\"../prep/point/merge_ready/sample_sensor_mr.csv\")\n",
    "topo_1 <- read.csv(\"../prep/point/merge_ready/topo_1_mr.csv\")\n",
    "clusters <- read.csv(\"../prep/point/merge_ready/clusters.csv\")"
   ]
  },
  {
   "cell_type": "code",
   "execution_count": 3,
   "metadata": {
    "vscode": {
     "languageId": "r"
    }
   },
   "outputs": [],
   "source": [
    "#merge datasets\n",
    "by <- join_by(patch, date)\n",
    "\n",
    "joined <- sampsens %>%\n",
    "    left_join(planet, by = by) %>% # join planet data\n",
    "    left_join(topo_1, \"patch\") %>% # join topo data\n",
    "    left_join(clusters, \"patch\") %>%\n",
    "    mutate(date = as.Date(date),\n",
    "           crop = as.factor(crop),\n",
    "           patch = as.factor(patch)) %>%\n",
    "    filter(complete.cases(sm_60, sm_90, nmin_90)) #remove rows na value in these cols\n",
    "\n",
    "# check for NAs\n",
    "if (FALSE) {\n",
    "    for (col in colnames(joined)){\n",
    "        print(col)\n",
    "        print(table(is.na(joined[[col]])))\n",
    "    }\n",
    "}"
   ]
  },
  {
   "cell_type": "code",
   "execution_count": 4,
   "metadata": {
    "vscode": {
     "languageId": "r"
    }
   },
   "outputs": [],
   "source": [
    "#calculate indicies\n",
    "\n",
    "joined_indicies <- joined %>%\n",
    "    mutate(\n",
    "        NDVI = (band_8 - band_6) / (band_8 + band_6),    # Normalized Difference Vegetation Index (NDVI)\n",
    "        GNDVI = (band_8 - band_4) / (band_8 + band_4),    # Green Normalized Difference Vegetation Index (GNDVI)\n",
    "        EVI = 2.5 * (band_8 - band_6) / (band_8 + 6 * band_6 - 7.5 * band_2 + 1),    # Enhanced Vegetation Index (EVI)\n",
    "        NDRE = (band_8 - band_7) / (band_8 + band_7),    # Normalized Difference Red Edge (NDRE)\n",
    "        MCARI = ((band_6 - band_7) - 0.2 * (band_7 - band_4)) * (band_6 / band_7) / (band_8 + band_6 + band_7),    # Modified Chlorophyll Absorption Ratio Index (MCARI)\n",
    "        LCCI = (band_8 - band_6) * (band_7 - band_4) / (band_8 + band_6) * (band_7 + band_4)     # Leaf Chlorophyll Content Index (LCCI)\n",
    "    ) %>%\n",
    "    relocate(nmin_90, .after = last_col()) %>%\n",
    "    select(-date) #no need for date"
   ]
  },
  {
   "cell_type": "code",
   "execution_count": 5,
   "metadata": {
    "vscode": {
     "languageId": "r"
    }
   },
   "outputs": [],
   "source": [
    "write.csv(joined_indicies, \"data/dataset_1.csv\", row.names = FALSE)"
   ]
  }
 ],
 "metadata": {
  "kernelspec": {
   "display_name": "R",
   "language": "R",
   "name": "ir"
  },
  "language_info": {
   "codemirror_mode": "r",
   "file_extension": ".r",
   "mimetype": "text/x-r-source",
   "name": "R",
   "pygments_lexer": "r",
   "version": "4.3.1"
  },
  "orig_nbformat": 4
 },
 "nbformat": 4,
 "nbformat_minor": 2
}
