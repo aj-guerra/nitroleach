{
 "cells": [
  {
   "cell_type": "markdown",
   "id": "c59a5188-f583-48a2-b64b-b48b27939c68",
   "metadata": {
    "tags": []
   },
   "source": [
    "# Init"
   ]
  },
  {
   "cell_type": "code",
   "execution_count": 3,
   "id": "2221d8e3-ce14-425c-a89d-8518de53fcc4",
   "metadata": {
    "vscode": {
     "languageId": "r"
    }
   },
   "outputs": [],
   "source": [
    "library(tidyverse)\n",
    "library(readxl)"
   ]
  },
  {
   "cell_type": "markdown",
   "id": "edbca23d-130e-422c-ab60-4169b7e95d06",
   "metadata": {
    "tags": []
   },
   "source": [
    "## True and Sensor Data Import for Calibration"
   ]
  },
  {
   "cell_type": "code",
   "execution_count": 4,
   "id": "effdf40d-7cbc-4baa-aed8-30e1f1eac5dd",
   "metadata": {
    "vscode": {
     "languageId": "r"
    }
   },
   "outputs": [
    {
     "name": "stderr",
     "output_type": "stream",
     "text": [
      "\u001b[1m\u001b[22m`summarise()` has grouped output by 'patchID', 'date'. You can override using\n",
      "the `.groups` argument.\n"
     ]
    }
   ],
   "source": [
    "#True Data import\n",
    "smdata_raw <- read.csv('data/true_data/nmin_raw.csv', sep = ';', na.strings = c(\"#VALUE!\", \"NA\", \"#DIV/0!\"))\n",
    "\n",
    "smdata <- smdata_raw %>%\n",
    "    mutate(date = dmy(Date),\n",
    "           depth = recode(Depth,\n",
    "                         '0-30' = 30,\n",
    "                         '30-60' = 60,\n",
    "                         '60-90' = 90,\n",
    "                         .default = NA_real_)) %>% \n",
    "    select(-c(Date, Depth, H2O_wet)) %>% \n",
    "    group_by(patchID, date, depth) %>% \n",
    "    summarise(across(where(is.double), ~ mean(.x, na.rm = TRUE))) %>% \n",
    "    mutate(vwc = BD * H2O_dry) %>% \n",
    "    rename(patch = patchID, gwc = H2O_dry)\n",
    "\n",
    "write_csv(smdata, file = \"data/true_data/nmin.csv\")"
   ]
  },
  {
   "cell_type": "code",
   "execution_count": 6,
   "id": "94cf89c1-dde2-439d-bc5b-479fe999a005",
   "metadata": {
    "vscode": {
     "languageId": "r"
    }
   },
   "outputs": [],
   "source": [
    "# # Sensor Data single date import\n",
    "sensor_smdata <- read.csv(\"data/daily_data/all_data_daily.csv\", \n",
    "                        sep = \";\")\n",
    "\n",
    "sensor_smdata <- sensor_smdata %>% \n",
    "    mutate(date = as.Date(as.POSIXct(dateTime))+1) %>% #plus one to have correct day\n",
    "    select(-dateTime)\n",
    "\n",
    "sensor_smdata_l <- sensor_smdata %>%\n",
    "    pivot_longer(cols=-c(date,patch),\n",
    "                 cols_vary = 'slowest',\n",
    "                 names_to = c('.value', 'depth'),\n",
    "                 names_pattern = \"(.*)_(.*)\",\n",
    "                 names_transform = list(\n",
    "                     depth = ~ readr::parse_double(.x)))\n"
   ]
  },
  {
   "cell_type": "code",
   "execution_count": 12,
   "id": "4f0a7ea9-33d8-437a-8b54-de3afe49240a",
   "metadata": {
    "vscode": {
     "languageId": "r"
    }
   },
   "outputs": [],
   "source": [
    "dates <- smdata %>% \n",
    "    group_by(patch) %>% \n",
    "    reframe(dates = as.Date(as.POSIXct(unique(date))))\n",
    "\n",
    "dates_list <- with(dates, split(dates, patch))\n",
    "\n",
    "patches <- smdata %>% \n",
    "    group_by(date) %>% \n",
    "    reframe(patches = unique(patch))\n",
    "\n",
    "patches_list <- with(patches, split(patches, date))"
   ]
  },
  {
   "cell_type": "code",
   "execution_count": 13,
   "id": "a16bcfbf-1ab7-4c36-8273-7b1afa4abdc2",
   "metadata": {
    "vscode": {
     "languageId": "r"
    }
   },
   "outputs": [],
   "source": [
    "# Combine True and sensor data\n",
    "# Rolling join using last date within 2 days\n",
    "past <- join_by(patch, depth, closest(x$date >= y$date))\n",
    "\n",
    "smdata_f <- smdata %>%\n",
    "    left_join(sensor_smdata_l, by = past) %>%\n",
    "    mutate(diff_days = as.numeric(difftime(date.x, date.y, units = 'days'))) %>%\n",
    "    filter(diff_days < 2)"
   ]
  },
  {
   "cell_type": "markdown",
   "id": "1d54e9e9-80cc-4ea8-9116-7f02feee923d",
   "metadata": {
    "tags": []
   },
   "source": [
    "## Calibration Model"
   ]
  },
  {
   "cell_type": "code",
   "execution_count": 14,
   "id": "25d61a86-4109-4678-9297-890bae96257e",
   "metadata": {
    "vscode": {
     "languageId": "r"
    }
   },
   "outputs": [],
   "source": [
    "# Define the list of predictor variables\n",
    "predictors <- c(\"left\", \"right\")\n",
    "\n",
    "# Initialize an empty list to store the models\n",
    "cal_models <- list()\n",
    "cal_models_sir_list <- list()\n",
    "cal_models_sir_df <- data.frame(depth = integer(),\n",
    "                                side = factor(),\n",
    "                                patch = integer(), \n",
    "                                slope = double(), \n",
    "                                intercept = double(), \n",
    "                                rsq = double(),\n",
    "                                n = integer())\n",
    "\n",
    "\n",
    "# Outer loop over the predictors\n",
    "for (pred in predictors) {\n",
    "\n",
    "    # Define the formula as a string, then convert it to a formula object\n",
    "    formula_obj <- as.formula(paste(\"vwc ~\", pred))\n",
    "\n",
    "    # Fit the models using by(), and add them to the model_list\n",
    "    models <- by(smdata_f,\n",
    "                list(as.factor(smdata_f$depth), as.factor(smdata_f$patch)),\n",
    "                function(subset) lm(formula_obj, data = subset))\n",
    "\n",
    "    # Convert by object to list\n",
    "    models_list <- as.list(models)\n",
    "\n",
    "    # Loop over depth indices\n",
    "    for (i in 1:dim(models)[1]) {\n",
    "      # Loop over patch indices\n",
    "      for (j in 1:dim(models)[2]) {\n",
    "        # Check if the model for this combination exists\n",
    "        if (!is.null(models_list[[i,j]])) {\n",
    "          # Get the depth and patch indices from the by object\n",
    "          depth_index <- as.character(attr(models, \"dimnames\")[[1]][i])\n",
    "          patch_index <- as.character(attr(models, \"dimnames\")[[2]][j])\n",
    "          # Use these indices in the cal_models\n",
    "          cal_models[[paste0(pred, \"_\", depth_index, \"_\", patch_index)]] <- summary(models_list[[i,j]])\n",
    "          cal_models_sir_list[[paste0(pred, \"_\", depth_index, \"_\", patch_index)]]$int <- models_list[[i,j]]$coefficients[[1]]\n",
    "          cal_models_sir_list[[paste0(pred, \"_\", depth_index, \"_\", patch_index)]]$slope <- models_list[[i,j]]$coefficients[[2]]\n",
    "          cal_models_sir_list[[paste0(pred, \"_\", depth_index, \"_\", patch_index)]]$rsq <- summary(models_list[[i,j]])$r.squared\n",
    "          sir <- data.frame(depth = as.integer(depth_index), \n",
    "                            side = as.factor(pred),\n",
    "                            patch = as.integer(patch_index), \n",
    "                            slope = as.double(models_list[[i,j]]$coefficients[[2]]),\n",
    "                            intercept = as.double(models_list[[i,j]]$coefficients[[1]]),\n",
    "                            rsq = summary(models_list[[i,j]])$r.squared,\n",
    "                            n = nobs(models_list[[i,j]]))\n",
    "\n",
    "          cal_models_sir_df <- rbind(cal_models_sir_df, sir)\n",
    "        }\n",
    "      }\n",
    "    }\n",
    "}"
   ]
  },
  {
   "cell_type": "code",
   "execution_count": 16,
   "id": "a0745565-0171-48e5-bc53-ce9a5979da70",
   "metadata": {
    "vscode": {
     "languageId": "r"
    }
   },
   "outputs": [],
   "source": [
    "smdata_cal <- cal_models_sir_df %>% \n",
    "    select(-c(rsq, n)) %>% \n",
    "    pivot_wider(names_from = side, \n",
    "                values_from = c(slope, intercept), \n",
    "                names_glue = \"{.value}_{side}\") %>% \n",
    "    left_join(smdata_f, by = c(\"patch\",  \"depth\")) %>% \n",
    "    rename(\"right_pre\" = \"right\",\n",
    "           \"left_pre\" = \"left\")%>% \n",
    "    mutate(\"left_post\" = (slope_left * left_pre) + intercept_left,\n",
    "           \"right_post\" = (slope_right * right_pre) + intercept_right) %>%\n",
    "    distinct()"
   ]
  },
  {
   "cell_type": "markdown",
   "id": "912b95da-5fb2-4833-8e49-8a32b3258d4e",
   "metadata": {},
   "source": [
    "## Applying Calibration to Cleaned Data"
   ]
  },
  {
   "cell_type": "code",
   "execution_count": 139,
   "id": "9dcfda1d-c563-4e9a-9fd5-311728538881",
   "metadata": {
    "vscode": {
     "languageId": "r"
    }
   },
   "outputs": [],
   "source": [
    "clean_csvs <- list.files(path = \"data/sensor_data_clean\", full.names = TRUE)\n",
    "\n",
    "# create output path\n",
    "out_path <- \"data/sensor_data_clean_cal\"\n",
    "if (!dir.exists(out_path)) {\n",
    "    dir.create(out_path, recursive = TRUE)\n",
    "}"
   ]
  },
  {
   "cell_type": "code",
   "execution_count": null,
   "id": "f81b92be-93f6-4428-bc19-72df9db06e77",
   "metadata": {
    "editable": true,
    "slideshow": {
     "slide_type": ""
    },
    "tags": [],
    "vscode": {
     "languageId": "r"
    }
   },
   "outputs": [],
   "source": [
    "# Function to calibrate data\n",
    "calibrator <- cal_models_sir_df %>% \n",
    "    select(c(depth, side, patch, slope, intercept))\n",
    "\n",
    "calibrate <- function(file_path) {\n",
    "    df <- read.csv(file_path)\n",
    "    patch_num <- as.integer(str_extract(file_path, \"\\\\d+\"))\n",
    "    relevent_cal <- calibrator %>% \n",
    "        filter(patch == patch_num) %>% \n",
    "        right_join(df, by = c(\"depth\", \"side\", \"patch\")) %>% \n",
    "        mutate(cal_wc = (wc * slope) + intercept) %>% \n",
    "        select(c(dateTime, depth, patch, side, cal_wc))\n",
    "\n",
    "    output_file_path <- str_replace(file_path, \"sensor_data_clean\", \"sensor_data_clean_cal\")\n",
    "    \n",
    "    write_csv(relevent_cal, file = output_file_path)\n",
    "}\n",
    "\n",
    "lapply(clean_csvs, calibrate)"
   ]
  },
  {
   "cell_type": "code",
   "execution_count": 1,
   "id": "467b6099-65bf-4667-b76c-8f0e28bd8fed",
   "metadata": {
    "vscode": {
     "languageId": "r"
    }
   },
   "outputs": [
    {
     "name": "stderr",
     "output_type": "stream",
     "text": [
      "── \u001b[1mAttaching core tidyverse packages\u001b[22m ──────────────────────── tidyverse 2.0.0 ──\n",
      "\u001b[32m✔\u001b[39m \u001b[34mdplyr    \u001b[39m 1.1.2     \u001b[32m✔\u001b[39m \u001b[34mreadr    \u001b[39m 2.1.4\n",
      "\u001b[32m✔\u001b[39m \u001b[34mforcats  \u001b[39m 1.0.0     \u001b[32m✔\u001b[39m \u001b[34mstringr  \u001b[39m 1.5.0\n",
      "\u001b[32m✔\u001b[39m \u001b[34mggplot2  \u001b[39m 3.4.2     \u001b[32m✔\u001b[39m \u001b[34mtibble   \u001b[39m 3.2.1\n",
      "\u001b[32m✔\u001b[39m \u001b[34mlubridate\u001b[39m 1.9.2     \u001b[32m✔\u001b[39m \u001b[34mtidyr    \u001b[39m 1.3.0\n",
      "\u001b[32m✔\u001b[39m \u001b[34mpurrr    \u001b[39m 1.0.1     \n",
      "── \u001b[1mConflicts\u001b[22m ────────────────────────────────────────── tidyverse_conflicts() ──\n",
      "\u001b[31m✖\u001b[39m \u001b[34mdplyr\u001b[39m::\u001b[32mfilter()\u001b[39m masks \u001b[34mstats\u001b[39m::filter()\n",
      "\u001b[31m✖\u001b[39m \u001b[34mdplyr\u001b[39m::\u001b[32mlag()\u001b[39m    masks \u001b[34mstats\u001b[39m::lag()\n",
      "\u001b[36mℹ\u001b[39m Use the conflicted package (\u001b[3m\u001b[34m<http://conflicted.r-lib.org/>\u001b[39m\u001b[23m) to force all conflicts to become errors\n"
     ]
    }
   ],
   "source": [
    "library(tidyverse)\n",
    "library(readxl)"
   ]
  },
  {
   "cell_type": "code",
   "execution_count": 2,
   "id": "6b628fc0-ac08-44fa-8252-d4094bde3660",
   "metadata": {
    "vscode": {
     "languageId": "r"
    }
   },
   "outputs": [],
   "source": [
    "# Create all_sensor_data_clean_cal\n",
    "\n",
    "fp <- \"data/sensor_data_clean_cal\"\n",
    "clean_cal_csvs <- list.files(path = fp, full.names = TRUE)\n",
    "merge_list <- lapply(clean_cal_csvs, read.csv)\n",
    "all_sdcc <- do.call(\"rbind\", merge_list)\n",
    "\n",
    "write_csv(all_sdcc, file = paste0(fp, \"/all_sensor_data_clean_cal.csv\"))"
   ]
  },
  {
   "cell_type": "markdown",
   "id": "ba85267f-f1a1-4502-aad8-9483031ecafa",
   "metadata": {
    "editable": true,
    "slideshow": {
     "slide_type": ""
    },
    "tags": []
   },
   "source": [
    "## Plotting Calibrated and Uncalibrated"
   ]
  },
  {
   "cell_type": "code",
   "execution_count": 18,
   "id": "e351e7cb",
   "metadata": {
    "vscode": {
     "languageId": "r"
    }
   },
   "outputs": [],
   "source": [
    "path <- \"figures/\"\n",
    "if (!dir.exists(path)) {\n",
    "  dir.create(path, recursive = TRUE)\n",
    "}"
   ]
  },
  {
   "cell_type": "code",
   "execution_count": null,
   "id": "570f3c30-e09b-46ac-92b9-a757ac589403",
   "metadata": {
    "vscode": {
     "languageId": "r"
    }
   },
   "outputs": [],
   "source": [
    "smplots_depth<- ggplot(smdata_f, aes(y=vwc, color=factor(patch))) + \n",
    "    geom_abline(slope = 1, intercept = 0) +\n",
    "    geom_point(aes(x=left), shape = 4)+\n",
    "    geom_smooth(aes(x=left), method='lm', se = FALSE)+\n",
    "    geom_point(aes(x=right), shape = 1)+\n",
    "    geom_smooth(aes(x=right), method='lm',se = FALSE, )+\n",
    "    scale_color_discrete()+\n",
    "    labs(x='SENSOR SM', y = 'TRUE SM')+\n",
    "    facet_wrap(vars(patch,depth))\n",
    "\n",
    "smplots<- ggplot(smdata_f, aes(y=vwc, color=factor(patch))) + \n",
    "    geom_abline(slope = 1, intercept = 0) +\n",
    "    geom_point(aes(x=left), shape = 4)+\n",
    "    geom_smooth(aes(x=left, linetype = factor(depth)), method='lm', se = FALSE)+\n",
    "    geom_point(aes(x=right), shape = 1)+\n",
    "    geom_smooth(aes(x=right, linetype = factor(depth)), method='lm',se = FALSE, )+\n",
    "    scale_color_discrete()+\n",
    "    labs(x='SENSOR SM', y = 'TRUE SM')+\n",
    "    facet_wrap(vars(patch))\n",
    "\n",
    "ggsave('figures/smplots_depths.tiff', smplots_depth, width=20, height =20, dpi=300, limitsize=FALSE) \n",
    "ggsave('figures/smplots.tiff', smplots, width=10, height =10, dpi=300, limitsize=FALSE) "
   ]
  },
  {
   "cell_type": "code",
   "execution_count": null,
   "id": "b4b16e54-4cb9-4164-9bbb-633e091339a1",
   "metadata": {
    "vscode": {
     "languageId": "r"
    }
   },
   "outputs": [],
   "source": [
    "smplots_depth_cal<- ggplot(smdata_cal, aes(y=vwc, color=factor(patch))) + \n",
    "    geom_abline(slope = 1, intercept = 0) +\n",
    "    geom_point(aes(x=left_post), shape = 4)+\n",
    "    geom_smooth(aes(x=left_post), method='lm', se = FALSE)+\n",
    "    geom_point(aes(x=right_post), shape = 1)+\n",
    "    geom_smooth(aes(x=right_post), method='lm',se = FALSE, )+\n",
    "    scale_color_discrete()+\n",
    "    labs(x='SENSOR SM', y = 'TRUE SM')+\n",
    "    facet_wrap(vars(patch,depth))\n",
    "\n",
    "smplots_cal<- ggplot(smdata_cal, aes(y=vwc, color=factor(patch))) + \n",
    "    geom_abline(slope = 1, intercept = 0) +\n",
    "    geom_point(aes(x=left_post), shape = 4)+\n",
    "    geom_smooth(aes(x=left_post, linetype = factor(depth)), method='lm', se = FALSE)+\n",
    "    geom_point(aes(x=right_post), shape = 1)+\n",
    "    geom_smooth(aes(x=right_post, linetype = factor(depth)), method='lm',se = FALSE, )+\n",
    "    scale_color_discrete()+\n",
    "    labs(x='SENSOR SM', y = 'TRUE SM')+\n",
    "    facet_wrap(vars(patch))\n",
    "\n",
    "ggsave('figures/smplots_depths_cal.tiff', smplots_depth_cal, width=20, height =20, dpi=300, limitsize=FALSE) \n",
    "ggsave('figures/smplots_cal.tiff', smplots_cal, width=10, height =10, dpi=300, limitsize=FALSE) "
   ]
  }
 ],
 "metadata": {
  "kernelspec": {
   "display_name": "R",
   "language": "R",
   "name": "ir"
  },
  "language_info": {
   "codemirror_mode": "r",
   "file_extension": ".r",
   "mimetype": "text/x-r-source",
   "name": "R",
   "pygments_lexer": "r",
   "version": "4.3.1"
  }
 },
 "nbformat": 4,
 "nbformat_minor": 5
}
