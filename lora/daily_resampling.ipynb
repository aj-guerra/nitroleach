{
 "cells": [
  {
   "cell_type": "code",
   "execution_count": 2,
   "id": "5a97870c-4e22-4f0f-94b7-32b36ef0c1f9",
   "metadata": {
    "tags": []
   },
   "outputs": [],
   "source": [
    "# Import necessary libraries\n",
    "import os\n",
    "import pandas as pd\n",
    "\n",
    "# Define the directory where the CSV files are located\n",
    "input_dir_path = \"data/sensor_data/\"\n",
    "\n",
    "# Define the directory where to save output files\n",
    "output_dir_path = \"data/dailydata/\"\n",
    "\n",
    "# Create an empty list to store the dataframes\n",
    "dfs = []\n",
    "\n",
    "# Loop over every file in the directory\n",
    "for file_name in os.listdir(input_dir_path):\n",
    "    # Check if the file is a CSV file\n",
    "    if not file_name.endswith('mobil.csv') and file_name.endswith('.csv') and file_name.startswith('patch'):\n",
    "        # Construct the full file path\n",
    "        input_file_path = os.path.join(input_dir_path, file_name)\n",
    "\n",
    "        # Load the data\n",
    "        df = pd.read_csv(input_file_path,  na_values=\"NA\")\n",
    "\n",
    "        # Combine 'Date' and 'Time' into a single datetime column\n",
    "        df['datetime'] = pd.to_datetime(df['dateTime'])\n",
    "\n",
    "        # Drop the original 'Date' and 'Time' columns\n",
    "        df.drop(['dateTime'], axis=1, inplace=True)\n",
    "\n",
    "        # Set 'datetime' as the index\n",
    "        df.set_index('datetime', inplace=True)\n",
    "\n",
    "        # Resample the data to daily frequency, taking the mean of each day\n",
    "        df_daily = df.resample('D').mean()\n",
    "        \n",
    "        # Get patch name and add to df_daily\n",
    "        patch = file_name.split('_')[1].split('.')[0]\n",
    "        df_daily.insert(0, 'patch', patch)\n",
    "\n",
    "        # Add the resampled dataframe to the list\n",
    "        dfs.append(df_daily)\n",
    "\n",
    "        # Create the output file path\n",
    "        output_file_path = os.path.join(output_dir_path, file_name.replace('.csv', '_daily.csv'))\n",
    "\n",
    "        # Save the resampled dataframe to a new CSV file\n",
    "        df_daily.to_csv(output_file_path, sep=\";\")\n",
    "\n",
    "# Concatenate all the dataframes in the list\n",
    "df_all = pd.concat(dfs).sort_index()\n",
    "\n",
    "# Create the output file path for the final dataframe\n",
    "output_all_file_path = os.path.join(output_dir_path, \"all_data_daily.csv\")\n",
    "\n",
    "# Save the final dataframe to a CSV file\n",
    "df_all.to_csv(output_all_file_path, sep=\";\")\n"
   ]
  }
 ],
 "metadata": {
  "kernelspec": {
   "display_name": "Python 3 (ipykernel)",
   "language": "python",
   "name": "python3"
  },
  "language_info": {
   "codemirror_mode": {
    "name": "ipython",
    "version": 3
   },
   "file_extension": ".py",
   "mimetype": "text/x-python",
   "name": "python",
   "nbconvert_exporter": "python",
   "pygments_lexer": "ipython3",
   "version": "3.10.12"
  }
 },
 "nbformat": 4,
 "nbformat_minor": 5
}
