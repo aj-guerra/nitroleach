{
 "cells": [
  {
   "cell_type": "code",
   "execution_count": 6,
   "id": "1b159c1f",
   "metadata": {},
   "outputs": [],
   "source": [
    "import os\n",
    "import pandas as pd\n",
    "\n",
    "def resample(df):\n",
    "    df_wide = df.pivot_table(values='wc', index='dateTime', columns=['side', 'depth'], aggfunc='mean').reset_index()\n",
    "    df_wide.columns = [f\"{col[0]}_{col[1]}\" if isinstance(col, tuple) else col for col in df_wide.columns]\n",
    "    df_wide.rename(columns={df_wide.columns[0]: 'dateTime'}, inplace=True)\n",
    "    df_modified = pd.merge(df.drop(['wc', 'side', 'depth'], axis=1).drop_duplicates(), df_wide, on='dateTime', how='left')\n",
    "    df_modified.set_index('dateTime', inplace=True)\n",
    "    numeric_df = df_modified.select_dtypes(include=['number']).resample('D').mean()\n",
    "    return numeric_df\n",
    "\n",
    "input_dir_path = \"data/sensor_data_clean/\"\n",
    "output_dir_path = \"data/daily_data/\"\n",
    "if not os.path.exists(output_dir_path):\n",
    "    os.makedirs(output_dir_path)\n",
    "\n",
    "dfs = []\n",
    "\n",
    "for file_name in os.listdir(input_dir_path):\n",
    "    input_file_path = os.path.join(input_dir_path, file_name)\n",
    "    df = pd.read_csv(input_file_path, na_values=\"NA\")\n",
    "    df['dateTime'] = pd.to_datetime(df['dateTime'])\n",
    "    df_daily = resample(df)\n",
    "    dfs.append(df_daily)\n",
    "    output_file_path = os.path.join(output_dir_path, file_name.replace('.csv', '_daily.csv'))\n",
    "    df_daily.to_csv(output_file_path, sep=\";\")\n",
    "\n",
    "df_all = pd.concat(dfs).sort_index()\n",
    "output_all_file_path = os.path.join(output_dir_path, \"all_data_daily.csv\")\n",
    "df_all.to_csv(output_all_file_path, sep=\";\")"
   ]
  }
 ],
 "metadata": {
  "kernelspec": {
   "display_name": "gis-env",
   "language": "python",
   "name": "python3"
  },
  "language_info": {
   "codemirror_mode": {
    "name": "ipython",
    "version": 3
   },
   "file_extension": ".py",
   "mimetype": "text/x-python",
   "name": "python",
   "nbconvert_exporter": "python",
   "pygments_lexer": "ipython3",
   "version": "3.10.12"
  }
 },
 "nbformat": 4,
 "nbformat_minor": 5
}
