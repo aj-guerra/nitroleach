{
 "cells": [
  {
   "cell_type": "code",
   "execution_count": 2,
   "id": "585284f4-9bc4-4bba-a885-fc4e4bd2dbc7",
   "metadata": {
    "vscode": {
     "languageId": "r"
    }
   },
   "outputs": [],
   "source": [
    "library(tidyverse)\n",
    "library(anomalize)\n",
    "library(forecast)"
   ]
  },
  {
   "cell_type": "code",
   "execution_count": 3,
   "id": "9c86e1d2-c07e-4b5d-9e5c-b2332ba26448",
   "metadata": {
    "vscode": {
     "languageId": "r"
    }
   },
   "outputs": [],
   "source": [
    "# Get list of CSV files in sensor_data directory\n",
    "csv_files <- list.files(path = \"data/sensor_data\", pattern = \"patch_[0-9]{2,3}.csv\", full.names = TRUE)"
   ]
  },
  {
   "cell_type": "code",
   "execution_count": null,
   "id": "ac7862fd-80ca-458b-9188-bd12e32e5cee",
   "metadata": {
    "vscode": {
     "languageId": "r"
    }
   },
   "outputs": [],
   "source": [
    "# Function to load data, remove outliers, and save cleaned data\n",
    "clean_data <- function(file_path) {\n",
    "\n",
    "    df <- read_csv(file_path)\n",
    "\n",
    "    var_names <- grep(\"water_content\", names(df), value = TRUE)\n",
    "\n",
    "    df <- df %>% select(c(dateTime,all_of(var_names)))\n",
    "    df <- na.omit(df)\n",
    "\n",
    "    patch <- str_extract(file_path, \"\\\\d+\")\n",
    "\n",
    "    print(paste(\"After removing NA: \", nrow(df)))\n",
    "\n",
    "    df_list <- list()\n",
    "\n",
    "    for (var in var_names) {\n",
    "        # Perform time series decomposition and anomaly detection\n",
    "\n",
    "        df %>% \n",
    "        time_decompose(.data[[var]], method = \"stl\", frequency = 60, trend = 180) %>% # 24 hour frequency (season), 3 hour trend with STL works\n",
    "        anomalize(remainder, method = \"iqr\", alpha = 0.05) -> df_outliers  # Adjusted parameters\n",
    "\n",
    "        var_names_2 <- grep(\"observed\", names(df_outliers), value = TRUE)\n",
    "\n",
    "        # Filter out the outliers\n",
    "        df_no_outliers <- df_outliers %>%h\n",
    "        filter(anomaly == 'No') %>% \n",
    "        select(dateTime, all_of(var_names_2))  # Retain the dateTime and observed data columns\n",
    "\n",
    "        print(paste(\"After outlier removal: \", nrow(df_no_outliers)))\n",
    "\n",
    "        # Rename columns to make them unique (excluding 'dateTime')\n",
    "        cols_to_rename <- setdiff(colnames(df_no_outliers), \"dateTime\")\n",
    "        df_no_outliers <- df_no_outliers %>% rename_at(vars(cols_to_rename), ~paste0(., \"_\", var))\n",
    "\n",
    "\n",
    "        # Store the result in the list\n",
    "        df_list[[var]] <- df_no_outliers\n",
    "    }\n",
    "\n",
    "    # Combine all data frames in the list by dateTime\n",
    "    df_combined <- Reduce(function(...) merge(..., by = \"dateTime\", all = TRUE), df_list)\n",
    "    print(paste(\"Final data frame: \", nrow(df_combined)))\n",
    "\n",
    "    df_combined <- df_combined %>%\n",
    "    pivot_longer(\n",
    "        cols = -dateTime,  # keep dateTime column as it is\n",
    "        names_to = c(\"side\", \"depth\"),  # create new columns\n",
    "        names_pattern = \"observed_water_content_(.*)_([0-9]+)_cm\",  # split column names\n",
    "        names_transform = list(\n",
    "            depth = ~ readr::parse_double(.x)),\n",
    "        values_to = \"wc\") %>% \n",
    "    mutate(patch = patch)\n",
    "\n",
    "  # Define the output file path\n",
    "  output_file_path <- str_replace(file_path, \"sensor_data\", \"sensor_data_clean\")\n",
    "\n",
    "  # Save cleaned data back to CSV\n",
    "  write_csv(df_combined, path = output_file_path)\n",
    "}\n",
    "\n",
    "# Apply the function to all CSV files in the directory\n",
    "lapply(csv_files, clean_data)\n"
   ]
  }
 ],
 "metadata": {
  "kernelspec": {
   "display_name": "R",
   "language": "R",
   "name": "ir"
  },
  "language_info": {
   "codemirror_mode": "r",
   "file_extension": ".r",
   "mimetype": "text/x-r-source",
   "name": "R",
   "pygments_lexer": "r",
   "version": "4.3.1"
  }
 },
 "nbformat": 4,
 "nbformat_minor": 5
}
